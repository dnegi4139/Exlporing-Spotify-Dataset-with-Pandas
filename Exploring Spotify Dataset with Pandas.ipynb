{
 "cells": [
  {
   "cell_type": "markdown",
   "id": "24f37823",
   "metadata": {},
   "source": [
    "### Importing important Libraries\n"
   ]
  },
  {
   "cell_type": "code",
   "execution_count": 1,
   "id": "0fac61f5",
   "metadata": {},
   "outputs": [],
   "source": [
    "import numpy as np\n",
    "import pandas as pd\n",
    "import matplotlib.pyplot as plt"
   ]
  },
  {
   "cell_type": "code",
   "execution_count": 2,
   "id": "8a18d82c",
   "metadata": {},
   "outputs": [
    {
     "data": {
      "text/html": [
       "<div>\n",
       "<style scoped>\n",
       "    .dataframe tbody tr th:only-of-type {\n",
       "        vertical-align: middle;\n",
       "    }\n",
       "\n",
       "    .dataframe tbody tr th {\n",
       "        vertical-align: top;\n",
       "    }\n",
       "\n",
       "    .dataframe thead th {\n",
       "        text-align: right;\n",
       "    }\n",
       "</style>\n",
       "<table border=\"1\" class=\"dataframe\">\n",
       "  <thead>\n",
       "    <tr style=\"text-align: right;\">\n",
       "      <th></th>\n",
       "      <th>title</th>\n",
       "      <th>artist</th>\n",
       "      <th>top genre</th>\n",
       "      <th>year</th>\n",
       "      <th>beats.per.minute</th>\n",
       "      <th>energy</th>\n",
       "      <th>danceability</th>\n",
       "      <th>loudness.dB</th>\n",
       "      <th>liveness</th>\n",
       "      <th>valance</th>\n",
       "      <th>length</th>\n",
       "      <th>acousticness</th>\n",
       "      <th>speechiness</th>\n",
       "      <th>popularity</th>\n",
       "    </tr>\n",
       "  </thead>\n",
       "  <tbody>\n",
       "    <tr>\n",
       "      <th>0</th>\n",
       "      <td>Blinding Lights</td>\n",
       "      <td>The Weeknd</td>\n",
       "      <td>canadian contemporary r&amp;b</td>\n",
       "      <td>2020</td>\n",
       "      <td>171</td>\n",
       "      <td>73</td>\n",
       "      <td>51</td>\n",
       "      <td>-6</td>\n",
       "      <td>9</td>\n",
       "      <td>33</td>\n",
       "      <td>200</td>\n",
       "      <td>0</td>\n",
       "      <td>6</td>\n",
       "      <td>91</td>\n",
       "    </tr>\n",
       "    <tr>\n",
       "      <th>1</th>\n",
       "      <td>Watermelon Sugar</td>\n",
       "      <td>Harry Styles</td>\n",
       "      <td>pop</td>\n",
       "      <td>2019</td>\n",
       "      <td>95</td>\n",
       "      <td>82</td>\n",
       "      <td>55</td>\n",
       "      <td>-4</td>\n",
       "      <td>34</td>\n",
       "      <td>56</td>\n",
       "      <td>174</td>\n",
       "      <td>12</td>\n",
       "      <td>5</td>\n",
       "      <td>88</td>\n",
       "    </tr>\n",
       "    <tr>\n",
       "      <th>2</th>\n",
       "      <td>Mood (feat. iann dior)</td>\n",
       "      <td>24kGoldn</td>\n",
       "      <td>cali rap</td>\n",
       "      <td>2021</td>\n",
       "      <td>91</td>\n",
       "      <td>72</td>\n",
       "      <td>70</td>\n",
       "      <td>-4</td>\n",
       "      <td>32</td>\n",
       "      <td>73</td>\n",
       "      <td>141</td>\n",
       "      <td>17</td>\n",
       "      <td>4</td>\n",
       "      <td>88</td>\n",
       "    </tr>\n",
       "    <tr>\n",
       "      <th>3</th>\n",
       "      <td>Someone You Loved</td>\n",
       "      <td>Lewis Capaldi</td>\n",
       "      <td>pop</td>\n",
       "      <td>2019</td>\n",
       "      <td>110</td>\n",
       "      <td>41</td>\n",
       "      <td>50</td>\n",
       "      <td>-6</td>\n",
       "      <td>11</td>\n",
       "      <td>45</td>\n",
       "      <td>182</td>\n",
       "      <td>75</td>\n",
       "      <td>3</td>\n",
       "      <td>86</td>\n",
       "    </tr>\n",
       "    <tr>\n",
       "      <th>4</th>\n",
       "      <td>Perfect</td>\n",
       "      <td>Ed Sheeran</td>\n",
       "      <td>pop</td>\n",
       "      <td>2017</td>\n",
       "      <td>95</td>\n",
       "      <td>45</td>\n",
       "      <td>60</td>\n",
       "      <td>-6</td>\n",
       "      <td>11</td>\n",
       "      <td>17</td>\n",
       "      <td>263</td>\n",
       "      <td>16</td>\n",
       "      <td>2</td>\n",
       "      <td>86</td>\n",
       "    </tr>\n",
       "  </tbody>\n",
       "</table>\n",
       "</div>"
      ],
      "text/plain": [
       "                    title         artist                  top genre  year  \\\n",
       "0         Blinding Lights     The Weeknd  canadian contemporary r&b  2020   \n",
       "1        Watermelon Sugar   Harry Styles                        pop  2019   \n",
       "2  Mood (feat. iann dior)       24kGoldn                   cali rap  2021   \n",
       "3       Someone You Loved  Lewis Capaldi                        pop  2019   \n",
       "4                 Perfect     Ed Sheeran                        pop  2017   \n",
       "\n",
       "   beats.per.minute  energy  danceability  loudness.dB  liveness  valance  \\\n",
       "0               171      73            51           -6         9       33   \n",
       "1                95      82            55           -4        34       56   \n",
       "2                91      72            70           -4        32       73   \n",
       "3               110      41            50           -6        11       45   \n",
       "4                95      45            60           -6        11       17   \n",
       "\n",
       "   length  acousticness  speechiness  popularity  \n",
       "0     200             0            6          91  \n",
       "1     174            12            5          88  \n",
       "2     141            17            4          88  \n",
       "3     182            75            3          86  \n",
       "4     263            16            2          86  "
      ]
     },
     "execution_count": 2,
     "metadata": {},
     "output_type": "execute_result"
    }
   ],
   "source": [
    "df=pd.read_csv('Spotify top 100 most streamed dataset.csv')\n",
    "df.head()"
   ]
  },
  {
   "cell_type": "markdown",
   "id": "6420efcc",
   "metadata": {},
   "source": [
    "### checking columns of Dataset "
   ]
  },
  {
   "cell_type": "code",
   "execution_count": 3,
   "id": "2785b9f8",
   "metadata": {},
   "outputs": [
    {
     "data": {
      "text/plain": [
       "Index(['title', 'artist', 'top genre', 'year', 'beats.per.minute', 'energy',\n",
       "       'danceability', 'loudness.dB', 'liveness', 'valance', 'length',\n",
       "       'acousticness', 'speechiness', 'popularity'],\n",
       "      dtype='object')"
      ]
     },
     "execution_count": 3,
     "metadata": {},
     "output_type": "execute_result"
    }
   ],
   "source": [
    "df.columns"
   ]
  },
  {
   "cell_type": "markdown",
   "id": "13ca94bb",
   "metadata": {},
   "source": [
    "### Checking value counts "
   ]
  },
  {
   "cell_type": "code",
   "execution_count": 4,
   "id": "37a590bc",
   "metadata": {},
   "outputs": [
    {
     "data": {
      "text/plain": [
       "45    5\n",
       "33    3\n",
       "42    3\n",
       "64    3\n",
       "43    3\n",
       "22    3\n",
       "49    3\n",
       "75    3\n",
       "73    3\n",
       "24    2\n",
       "51    2\n",
       "65    2\n",
       "34    2\n",
       "84    2\n",
       "48    2\n",
       "86    2\n",
       "56    2\n",
       "29    2\n",
       "32    2\n",
       "59    2\n",
       "41    2\n",
       "55    2\n",
       "50    2\n",
       "67    2\n",
       "93    2\n",
       "60    2\n",
       "44    2\n",
       "66    2\n",
       "20    2\n",
       "47    2\n",
       "17    2\n",
       "70    1\n",
       "27    1\n",
       "79    1\n",
       "28    1\n",
       "46    1\n",
       "58    1\n",
       "6     1\n",
       "35    1\n",
       "61    1\n",
       "80    1\n",
       "72    1\n",
       "15    1\n",
       "88    1\n",
       "90    1\n",
       "12    1\n",
       "39    1\n",
       "14    1\n",
       "18    1\n",
       "16    1\n",
       "68    1\n",
       "36    1\n",
       "85    1\n",
       "40    1\n",
       "13    1\n",
       "52    1\n",
       "91    1\n",
       "74    1\n",
       "Name: valance, dtype: int64"
      ]
     },
     "execution_count": 4,
     "metadata": {},
     "output_type": "execute_result"
    }
   ],
   "source": [
    "df['valance'].value_counts()"
   ]
  },
  {
   "cell_type": "markdown",
   "id": "14b9403f",
   "metadata": {},
   "source": [
    "### To check the shape of Dataset i.e. checking rows and columns: "
   ]
  },
  {
   "cell_type": "code",
   "execution_count": 5,
   "id": "e70bfad7",
   "metadata": {},
   "outputs": [
    {
     "data": {
      "text/plain": [
       "(100, 14)"
      ]
     },
     "execution_count": 5,
     "metadata": {},
     "output_type": "execute_result"
    }
   ],
   "source": [
    "df.shape #hence we can say that this dataset contains 100 Rows and 14 columns"
   ]
  },
  {
   "cell_type": "markdown",
   "id": "c23fdd55",
   "metadata": {},
   "source": [
    "### Viewing datatype of each column:- "
   ]
  },
  {
   "cell_type": "code",
   "execution_count": 6,
   "id": "2ff29043",
   "metadata": {},
   "outputs": [
    {
     "data": {
      "text/plain": [
       "title               object\n",
       "artist              object\n",
       "top genre           object\n",
       "year                 int64\n",
       "beats.per.minute     int64\n",
       "energy               int64\n",
       "danceability         int64\n",
       "loudness.dB          int64\n",
       "liveness             int64\n",
       "valance              int64\n",
       "length               int64\n",
       "acousticness         int64\n",
       "speechiness          int64\n",
       "popularity           int64\n",
       "dtype: object"
      ]
     },
     "execution_count": 6,
     "metadata": {},
     "output_type": "execute_result"
    }
   ],
   "source": [
    "df.dtypes"
   ]
  },
  {
   "cell_type": "markdown",
   "id": "dc25a7eb",
   "metadata": {},
   "source": [
    "### To check the Statistical details of the dataset:- "
   ]
  },
  {
   "cell_type": "code",
   "execution_count": 7,
   "id": "996ecc99",
   "metadata": {},
   "outputs": [
    {
     "data": {
      "text/html": [
       "<div>\n",
       "<style scoped>\n",
       "    .dataframe tbody tr th:only-of-type {\n",
       "        vertical-align: middle;\n",
       "    }\n",
       "\n",
       "    .dataframe tbody tr th {\n",
       "        vertical-align: top;\n",
       "    }\n",
       "\n",
       "    .dataframe thead th {\n",
       "        text-align: right;\n",
       "    }\n",
       "</style>\n",
       "<table border=\"1\" class=\"dataframe\">\n",
       "  <thead>\n",
       "    <tr style=\"text-align: right;\">\n",
       "      <th></th>\n",
       "      <th>year</th>\n",
       "      <th>beats.per.minute</th>\n",
       "      <th>energy</th>\n",
       "      <th>danceability</th>\n",
       "      <th>loudness.dB</th>\n",
       "      <th>liveness</th>\n",
       "      <th>valance</th>\n",
       "      <th>length</th>\n",
       "      <th>acousticness</th>\n",
       "      <th>speechiness</th>\n",
       "      <th>popularity</th>\n",
       "    </tr>\n",
       "  </thead>\n",
       "  <tbody>\n",
       "    <tr>\n",
       "      <th>count</th>\n",
       "      <td>100.000000</td>\n",
       "      <td>100.000000</td>\n",
       "      <td>100.000000</td>\n",
       "      <td>100.00000</td>\n",
       "      <td>100.000000</td>\n",
       "      <td>100.000000</td>\n",
       "      <td>100.000000</td>\n",
       "      <td>100.000000</td>\n",
       "      <td>100.00000</td>\n",
       "      <td>100.000000</td>\n",
       "      <td>100.000000</td>\n",
       "    </tr>\n",
       "    <tr>\n",
       "      <th>mean</th>\n",
       "      <td>2015.960000</td>\n",
       "      <td>116.970000</td>\n",
       "      <td>62.680000</td>\n",
       "      <td>66.96000</td>\n",
       "      <td>-6.100000</td>\n",
       "      <td>16.860000</td>\n",
       "      <td>49.970000</td>\n",
       "      <td>214.530000</td>\n",
       "      <td>24.95000</td>\n",
       "      <td>9.930000</td>\n",
       "      <td>79.670000</td>\n",
       "    </tr>\n",
       "    <tr>\n",
       "      <th>std</th>\n",
       "      <td>5.327497</td>\n",
       "      <td>27.470629</td>\n",
       "      <td>16.491737</td>\n",
       "      <td>13.60401</td>\n",
       "      <td>1.987334</td>\n",
       "      <td>12.972403</td>\n",
       "      <td>21.737857</td>\n",
       "      <td>35.934974</td>\n",
       "      <td>26.27876</td>\n",
       "      <td>9.424077</td>\n",
       "      <td>5.905065</td>\n",
       "    </tr>\n",
       "    <tr>\n",
       "      <th>min</th>\n",
       "      <td>1975.000000</td>\n",
       "      <td>71.000000</td>\n",
       "      <td>11.000000</td>\n",
       "      <td>35.00000</td>\n",
       "      <td>-14.000000</td>\n",
       "      <td>3.000000</td>\n",
       "      <td>6.000000</td>\n",
       "      <td>119.000000</td>\n",
       "      <td>0.00000</td>\n",
       "      <td>2.000000</td>\n",
       "      <td>53.000000</td>\n",
       "    </tr>\n",
       "    <tr>\n",
       "      <th>25%</th>\n",
       "      <td>2015.000000</td>\n",
       "      <td>95.000000</td>\n",
       "      <td>52.000000</td>\n",
       "      <td>59.00000</td>\n",
       "      <td>-7.000000</td>\n",
       "      <td>10.000000</td>\n",
       "      <td>33.750000</td>\n",
       "      <td>190.500000</td>\n",
       "      <td>4.00000</td>\n",
       "      <td>4.000000</td>\n",
       "      <td>79.000000</td>\n",
       "    </tr>\n",
       "    <tr>\n",
       "      <th>50%</th>\n",
       "      <td>2017.000000</td>\n",
       "      <td>115.000000</td>\n",
       "      <td>64.500000</td>\n",
       "      <td>69.00000</td>\n",
       "      <td>-6.000000</td>\n",
       "      <td>12.000000</td>\n",
       "      <td>48.000000</td>\n",
       "      <td>210.000000</td>\n",
       "      <td>13.00000</td>\n",
       "      <td>6.000000</td>\n",
       "      <td>81.000000</td>\n",
       "    </tr>\n",
       "    <tr>\n",
       "      <th>75%</th>\n",
       "      <td>2018.000000</td>\n",
       "      <td>135.250000</td>\n",
       "      <td>76.000000</td>\n",
       "      <td>77.00000</td>\n",
       "      <td>-5.000000</td>\n",
       "      <td>17.250000</td>\n",
       "      <td>66.000000</td>\n",
       "      <td>234.250000</td>\n",
       "      <td>41.50000</td>\n",
       "      <td>11.000000</td>\n",
       "      <td>83.000000</td>\n",
       "    </tr>\n",
       "    <tr>\n",
       "      <th>max</th>\n",
       "      <td>2021.000000</td>\n",
       "      <td>186.000000</td>\n",
       "      <td>92.000000</td>\n",
       "      <td>91.00000</td>\n",
       "      <td>-3.000000</td>\n",
       "      <td>79.000000</td>\n",
       "      <td>93.000000</td>\n",
       "      <td>354.000000</td>\n",
       "      <td>98.00000</td>\n",
       "      <td>46.000000</td>\n",
       "      <td>91.000000</td>\n",
       "    </tr>\n",
       "  </tbody>\n",
       "</table>\n",
       "</div>"
      ],
      "text/plain": [
       "              year  beats.per.minute      energy  danceability  loudness.dB  \\\n",
       "count   100.000000        100.000000  100.000000     100.00000   100.000000   \n",
       "mean   2015.960000        116.970000   62.680000      66.96000    -6.100000   \n",
       "std       5.327497         27.470629   16.491737      13.60401     1.987334   \n",
       "min    1975.000000         71.000000   11.000000      35.00000   -14.000000   \n",
       "25%    2015.000000         95.000000   52.000000      59.00000    -7.000000   \n",
       "50%    2017.000000        115.000000   64.500000      69.00000    -6.000000   \n",
       "75%    2018.000000        135.250000   76.000000      77.00000    -5.000000   \n",
       "max    2021.000000        186.000000   92.000000      91.00000    -3.000000   \n",
       "\n",
       "         liveness     valance      length  acousticness  speechiness  \\\n",
       "count  100.000000  100.000000  100.000000     100.00000   100.000000   \n",
       "mean    16.860000   49.970000  214.530000      24.95000     9.930000   \n",
       "std     12.972403   21.737857   35.934974      26.27876     9.424077   \n",
       "min      3.000000    6.000000  119.000000       0.00000     2.000000   \n",
       "25%     10.000000   33.750000  190.500000       4.00000     4.000000   \n",
       "50%     12.000000   48.000000  210.000000      13.00000     6.000000   \n",
       "75%     17.250000   66.000000  234.250000      41.50000    11.000000   \n",
       "max     79.000000   93.000000  354.000000      98.00000    46.000000   \n",
       "\n",
       "       popularity  \n",
       "count  100.000000  \n",
       "mean    79.670000  \n",
       "std      5.905065  \n",
       "min     53.000000  \n",
       "25%     79.000000  \n",
       "50%     81.000000  \n",
       "75%     83.000000  \n",
       "max     91.000000  "
      ]
     },
     "execution_count": 7,
     "metadata": {},
     "output_type": "execute_result"
    }
   ],
   "source": [
    "df.describe()         #we use parenthesis \"()\" because it is a function not property"
   ]
  },
  {
   "cell_type": "markdown",
   "id": "bb033ad2",
   "metadata": {},
   "source": [
    "### Viewing the concise summary of a Dataframe:- "
   ]
  },
  {
   "cell_type": "code",
   "execution_count": 8,
   "id": "f84f16ba",
   "metadata": {},
   "outputs": [
    {
     "name": "stdout",
     "output_type": "stream",
     "text": [
      "<class 'pandas.core.frame.DataFrame'>\n",
      "RangeIndex: 100 entries, 0 to 99\n",
      "Data columns (total 14 columns):\n",
      " #   Column            Non-Null Count  Dtype \n",
      "---  ------            --------------  ----- \n",
      " 0   title             100 non-null    object\n",
      " 1   artist            100 non-null    object\n",
      " 2   top genre         100 non-null    object\n",
      " 3   year              100 non-null    int64 \n",
      " 4   beats.per.minute  100 non-null    int64 \n",
      " 5   energy            100 non-null    int64 \n",
      " 6   danceability      100 non-null    int64 \n",
      " 7   loudness.dB       100 non-null    int64 \n",
      " 8   liveness          100 non-null    int64 \n",
      " 9   valance           100 non-null    int64 \n",
      " 10  length            100 non-null    int64 \n",
      " 11  acousticness      100 non-null    int64 \n",
      " 12  speechiness       100 non-null    int64 \n",
      " 13  popularity        100 non-null    int64 \n",
      "dtypes: int64(11), object(3)\n",
      "memory usage: 11.1+ KB\n"
     ]
    }
   ],
   "source": [
    "df.info()"
   ]
  },
  {
   "cell_type": "markdown",
   "id": "8054239a",
   "metadata": {},
   "source": [
    "### Counting non-NA cells for each column or row:-"
   ]
  },
  {
   "cell_type": "code",
   "execution_count": 9,
   "id": "e58ea68e",
   "metadata": {},
   "outputs": [
    {
     "data": {
      "text/plain": [
       "title               100\n",
       "artist              100\n",
       "top genre           100\n",
       "year                100\n",
       "beats.per.minute    100\n",
       "energy              100\n",
       "danceability        100\n",
       "loudness.dB         100\n",
       "liveness            100\n",
       "valance             100\n",
       "length              100\n",
       "acousticness        100\n",
       "speechiness         100\n",
       "popularity          100\n",
       "dtype: int64"
      ]
     },
     "execution_count": 9,
     "metadata": {},
     "output_type": "execute_result"
    }
   ],
   "source": [
    "df.count()"
   ]
  },
  {
   "cell_type": "markdown",
   "id": "888bfe6a",
   "metadata": {},
   "source": [
    "### Dropping rows from the dataframe:-\n"
   ]
  },
  {
   "cell_type": "code",
   "execution_count": 10,
   "id": "56978cb1",
   "metadata": {},
   "outputs": [
    {
     "data": {
      "text/html": [
       "<div>\n",
       "<style scoped>\n",
       "    .dataframe tbody tr th:only-of-type {\n",
       "        vertical-align: middle;\n",
       "    }\n",
       "\n",
       "    .dataframe tbody tr th {\n",
       "        vertical-align: top;\n",
       "    }\n",
       "\n",
       "    .dataframe thead th {\n",
       "        text-align: right;\n",
       "    }\n",
       "</style>\n",
       "<table border=\"1\" class=\"dataframe\">\n",
       "  <thead>\n",
       "    <tr style=\"text-align: right;\">\n",
       "      <th></th>\n",
       "      <th>title</th>\n",
       "      <th>artist</th>\n",
       "      <th>top genre</th>\n",
       "      <th>year</th>\n",
       "      <th>beats.per.minute</th>\n",
       "      <th>energy</th>\n",
       "      <th>danceability</th>\n",
       "      <th>loudness.dB</th>\n",
       "      <th>liveness</th>\n",
       "      <th>valance</th>\n",
       "      <th>length</th>\n",
       "      <th>acousticness</th>\n",
       "      <th>speechiness</th>\n",
       "      <th>popularity</th>\n",
       "    </tr>\n",
       "  </thead>\n",
       "  <tbody>\n",
       "    <tr>\n",
       "      <th>0</th>\n",
       "      <td>Blinding Lights</td>\n",
       "      <td>The Weeknd</td>\n",
       "      <td>canadian contemporary r&amp;b</td>\n",
       "      <td>2020</td>\n",
       "      <td>171</td>\n",
       "      <td>73</td>\n",
       "      <td>51</td>\n",
       "      <td>-6</td>\n",
       "      <td>9</td>\n",
       "      <td>33</td>\n",
       "      <td>200</td>\n",
       "      <td>0</td>\n",
       "      <td>6</td>\n",
       "      <td>91</td>\n",
       "    </tr>\n",
       "    <tr>\n",
       "      <th>3</th>\n",
       "      <td>Someone You Loved</td>\n",
       "      <td>Lewis Capaldi</td>\n",
       "      <td>pop</td>\n",
       "      <td>2019</td>\n",
       "      <td>110</td>\n",
       "      <td>41</td>\n",
       "      <td>50</td>\n",
       "      <td>-6</td>\n",
       "      <td>11</td>\n",
       "      <td>45</td>\n",
       "      <td>182</td>\n",
       "      <td>75</td>\n",
       "      <td>3</td>\n",
       "      <td>86</td>\n",
       "    </tr>\n",
       "    <tr>\n",
       "      <th>4</th>\n",
       "      <td>Perfect</td>\n",
       "      <td>Ed Sheeran</td>\n",
       "      <td>pop</td>\n",
       "      <td>2017</td>\n",
       "      <td>95</td>\n",
       "      <td>45</td>\n",
       "      <td>60</td>\n",
       "      <td>-6</td>\n",
       "      <td>11</td>\n",
       "      <td>17</td>\n",
       "      <td>263</td>\n",
       "      <td>16</td>\n",
       "      <td>2</td>\n",
       "      <td>86</td>\n",
       "    </tr>\n",
       "    <tr>\n",
       "      <th>5</th>\n",
       "      <td>Believer</td>\n",
       "      <td>Imagine Dragons</td>\n",
       "      <td>modern rock</td>\n",
       "      <td>2017</td>\n",
       "      <td>125</td>\n",
       "      <td>78</td>\n",
       "      <td>78</td>\n",
       "      <td>-4</td>\n",
       "      <td>8</td>\n",
       "      <td>67</td>\n",
       "      <td>204</td>\n",
       "      <td>6</td>\n",
       "      <td>13</td>\n",
       "      <td>86</td>\n",
       "    </tr>\n",
       "    <tr>\n",
       "      <th>6</th>\n",
       "      <td>lovely (with Khalid)</td>\n",
       "      <td>Billie Eilish</td>\n",
       "      <td>electropop</td>\n",
       "      <td>2018</td>\n",
       "      <td>115</td>\n",
       "      <td>30</td>\n",
       "      <td>35</td>\n",
       "      <td>-10</td>\n",
       "      <td>10</td>\n",
       "      <td>12</td>\n",
       "      <td>200</td>\n",
       "      <td>93</td>\n",
       "      <td>3</td>\n",
       "      <td>86</td>\n",
       "    </tr>\n",
       "    <tr>\n",
       "      <th>...</th>\n",
       "      <td>...</td>\n",
       "      <td>...</td>\n",
       "      <td>...</td>\n",
       "      <td>...</td>\n",
       "      <td>...</td>\n",
       "      <td>...</td>\n",
       "      <td>...</td>\n",
       "      <td>...</td>\n",
       "      <td>...</td>\n",
       "      <td>...</td>\n",
       "      <td>...</td>\n",
       "      <td>...</td>\n",
       "      <td>...</td>\n",
       "      <td>...</td>\n",
       "    </tr>\n",
       "    <tr>\n",
       "      <th>95</th>\n",
       "      <td>One Dance</td>\n",
       "      <td>Drake</td>\n",
       "      <td>canadian hip hop</td>\n",
       "      <td>2016</td>\n",
       "      <td>104</td>\n",
       "      <td>61</td>\n",
       "      <td>79</td>\n",
       "      <td>-6</td>\n",
       "      <td>32</td>\n",
       "      <td>43</td>\n",
       "      <td>174</td>\n",
       "      <td>1</td>\n",
       "      <td>6</td>\n",
       "      <td>66</td>\n",
       "    </tr>\n",
       "    <tr>\n",
       "      <th>96</th>\n",
       "      <td>Sugar</td>\n",
       "      <td>Maroon 5</td>\n",
       "      <td>pop</td>\n",
       "      <td>2015</td>\n",
       "      <td>120</td>\n",
       "      <td>79</td>\n",
       "      <td>75</td>\n",
       "      <td>-7</td>\n",
       "      <td>9</td>\n",
       "      <td>88</td>\n",
       "      <td>235</td>\n",
       "      <td>6</td>\n",
       "      <td>3</td>\n",
       "      <td>66</td>\n",
       "    </tr>\n",
       "    <tr>\n",
       "      <th>97</th>\n",
       "      <td>Emotions</td>\n",
       "      <td>Mark Mendy</td>\n",
       "      <td>pop dance</td>\n",
       "      <td>2021</td>\n",
       "      <td>126</td>\n",
       "      <td>83</td>\n",
       "      <td>66</td>\n",
       "      <td>-5</td>\n",
       "      <td>40</td>\n",
       "      <td>74</td>\n",
       "      <td>172</td>\n",
       "      <td>5</td>\n",
       "      <td>29</td>\n",
       "      <td>66</td>\n",
       "    </tr>\n",
       "    <tr>\n",
       "      <th>98</th>\n",
       "      <td>Cold Water</td>\n",
       "      <td>Major Lazer</td>\n",
       "      <td>dance pop</td>\n",
       "      <td>2018</td>\n",
       "      <td>93</td>\n",
       "      <td>80</td>\n",
       "      <td>61</td>\n",
       "      <td>-5</td>\n",
       "      <td>16</td>\n",
       "      <td>50</td>\n",
       "      <td>185</td>\n",
       "      <td>7</td>\n",
       "      <td>4</td>\n",
       "      <td>56</td>\n",
       "    </tr>\n",
       "    <tr>\n",
       "      <th>99</th>\n",
       "      <td>I Took A Pill In Ibiza - Seeb Remix</td>\n",
       "      <td>Mike Posner</td>\n",
       "      <td>dance pop</td>\n",
       "      <td>2016</td>\n",
       "      <td>102</td>\n",
       "      <td>73</td>\n",
       "      <td>67</td>\n",
       "      <td>-7</td>\n",
       "      <td>9</td>\n",
       "      <td>66</td>\n",
       "      <td>198</td>\n",
       "      <td>3</td>\n",
       "      <td>10</td>\n",
       "      <td>53</td>\n",
       "    </tr>\n",
       "  </tbody>\n",
       "</table>\n",
       "<p>97 rows × 14 columns</p>\n",
       "</div>"
      ],
      "text/plain": [
       "                                  title           artist  \\\n",
       "0                       Blinding Lights       The Weeknd   \n",
       "3                     Someone You Loved    Lewis Capaldi   \n",
       "4                               Perfect       Ed Sheeran   \n",
       "5                              Believer  Imagine Dragons   \n",
       "6                  lovely (with Khalid)    Billie Eilish   \n",
       "..                                  ...              ...   \n",
       "95                            One Dance            Drake   \n",
       "96                                Sugar         Maroon 5   \n",
       "97                             Emotions       Mark Mendy   \n",
       "98                           Cold Water      Major Lazer   \n",
       "99  I Took A Pill In Ibiza - Seeb Remix      Mike Posner   \n",
       "\n",
       "                    top genre  year  beats.per.minute  energy  danceability  \\\n",
       "0   canadian contemporary r&b  2020               171      73            51   \n",
       "3                         pop  2019               110      41            50   \n",
       "4                         pop  2017                95      45            60   \n",
       "5                 modern rock  2017               125      78            78   \n",
       "6                  electropop  2018               115      30            35   \n",
       "..                        ...   ...               ...     ...           ...   \n",
       "95           canadian hip hop  2016               104      61            79   \n",
       "96                        pop  2015               120      79            75   \n",
       "97                  pop dance  2021               126      83            66   \n",
       "98                  dance pop  2018                93      80            61   \n",
       "99                  dance pop  2016               102      73            67   \n",
       "\n",
       "    loudness.dB  liveness  valance  length  acousticness  speechiness  \\\n",
       "0            -6         9       33     200             0            6   \n",
       "3            -6        11       45     182            75            3   \n",
       "4            -6        11       17     263            16            2   \n",
       "5            -4         8       67     204             6           13   \n",
       "6           -10        10       12     200            93            3   \n",
       "..          ...       ...      ...     ...           ...          ...   \n",
       "95           -6        32       43     174             1            6   \n",
       "96           -7         9       88     235             6            3   \n",
       "97           -5        40       74     172             5           29   \n",
       "98           -5        16       50     185             7            4   \n",
       "99           -7         9       66     198             3           10   \n",
       "\n",
       "    popularity  \n",
       "0           91  \n",
       "3           86  \n",
       "4           86  \n",
       "5           86  \n",
       "6           86  \n",
       "..         ...  \n",
       "95          66  \n",
       "96          66  \n",
       "97          66  \n",
       "98          56  \n",
       "99          53  \n",
       "\n",
       "[97 rows x 14 columns]"
      ]
     },
     "execution_count": 10,
     "metadata": {},
     "output_type": "execute_result"
    }
   ],
   "source": [
    "df.drop([1,2,7])   #dropping rows number 1,2 and 7, default axis=0\n",
    "                   #these rows are not actually dropped from the existing DataFrame \n",
    "                   #to drop these rows we use \"inplace=true\""
   ]
  },
  {
   "cell_type": "markdown",
   "id": "69490421",
   "metadata": {},
   "source": [
    "#### dropping particular rows from the dataframe \n"
   ]
  },
  {
   "cell_type": "code",
   "execution_count": 11,
   "id": "cf47d4f8",
   "metadata": {},
   "outputs": [
    {
     "data": {
      "text/html": [
       "<div>\n",
       "<style scoped>\n",
       "    .dataframe tbody tr th:only-of-type {\n",
       "        vertical-align: middle;\n",
       "    }\n",
       "\n",
       "    .dataframe tbody tr th {\n",
       "        vertical-align: top;\n",
       "    }\n",
       "\n",
       "    .dataframe thead th {\n",
       "        text-align: right;\n",
       "    }\n",
       "</style>\n",
       "<table border=\"1\" class=\"dataframe\">\n",
       "  <thead>\n",
       "    <tr style=\"text-align: right;\">\n",
       "      <th></th>\n",
       "      <th>title</th>\n",
       "      <th>artist</th>\n",
       "      <th>top genre</th>\n",
       "      <th>year</th>\n",
       "      <th>beats.per.minute</th>\n",
       "      <th>energy</th>\n",
       "      <th>danceability</th>\n",
       "      <th>loudness.dB</th>\n",
       "      <th>liveness</th>\n",
       "      <th>valance</th>\n",
       "      <th>length</th>\n",
       "      <th>acousticness</th>\n",
       "      <th>speechiness</th>\n",
       "      <th>popularity</th>\n",
       "    </tr>\n",
       "  </thead>\n",
       "  <tbody>\n",
       "    <tr>\n",
       "      <th>0</th>\n",
       "      <td>Blinding Lights</td>\n",
       "      <td>The Weeknd</td>\n",
       "      <td>canadian contemporary r&amp;b</td>\n",
       "      <td>2020</td>\n",
       "      <td>171</td>\n",
       "      <td>73</td>\n",
       "      <td>51</td>\n",
       "      <td>-6</td>\n",
       "      <td>9</td>\n",
       "      <td>33</td>\n",
       "      <td>200</td>\n",
       "      <td>0</td>\n",
       "      <td>6</td>\n",
       "      <td>91</td>\n",
       "    </tr>\n",
       "    <tr>\n",
       "      <th>1</th>\n",
       "      <td>Watermelon Sugar</td>\n",
       "      <td>Harry Styles</td>\n",
       "      <td>pop</td>\n",
       "      <td>2019</td>\n",
       "      <td>95</td>\n",
       "      <td>82</td>\n",
       "      <td>55</td>\n",
       "      <td>-4</td>\n",
       "      <td>34</td>\n",
       "      <td>56</td>\n",
       "      <td>174</td>\n",
       "      <td>12</td>\n",
       "      <td>5</td>\n",
       "      <td>88</td>\n",
       "    </tr>\n",
       "    <tr>\n",
       "      <th>2</th>\n",
       "      <td>Mood (feat. iann dior)</td>\n",
       "      <td>24kGoldn</td>\n",
       "      <td>cali rap</td>\n",
       "      <td>2021</td>\n",
       "      <td>91</td>\n",
       "      <td>72</td>\n",
       "      <td>70</td>\n",
       "      <td>-4</td>\n",
       "      <td>32</td>\n",
       "      <td>73</td>\n",
       "      <td>141</td>\n",
       "      <td>17</td>\n",
       "      <td>4</td>\n",
       "      <td>88</td>\n",
       "    </tr>\n",
       "    <tr>\n",
       "      <th>4</th>\n",
       "      <td>Perfect</td>\n",
       "      <td>Ed Sheeran</td>\n",
       "      <td>pop</td>\n",
       "      <td>2017</td>\n",
       "      <td>95</td>\n",
       "      <td>45</td>\n",
       "      <td>60</td>\n",
       "      <td>-6</td>\n",
       "      <td>11</td>\n",
       "      <td>17</td>\n",
       "      <td>263</td>\n",
       "      <td>16</td>\n",
       "      <td>2</td>\n",
       "      <td>86</td>\n",
       "    </tr>\n",
       "    <tr>\n",
       "      <th>5</th>\n",
       "      <td>Believer</td>\n",
       "      <td>Imagine Dragons</td>\n",
       "      <td>modern rock</td>\n",
       "      <td>2017</td>\n",
       "      <td>125</td>\n",
       "      <td>78</td>\n",
       "      <td>78</td>\n",
       "      <td>-4</td>\n",
       "      <td>8</td>\n",
       "      <td>67</td>\n",
       "      <td>204</td>\n",
       "      <td>6</td>\n",
       "      <td>13</td>\n",
       "      <td>86</td>\n",
       "    </tr>\n",
       "  </tbody>\n",
       "</table>\n",
       "</div>"
      ],
      "text/plain": [
       "                    title           artist                  top genre  year  \\\n",
       "0         Blinding Lights       The Weeknd  canadian contemporary r&b  2020   \n",
       "1        Watermelon Sugar     Harry Styles                        pop  2019   \n",
       "2  Mood (feat. iann dior)         24kGoldn                   cali rap  2021   \n",
       "4                 Perfect       Ed Sheeran                        pop  2017   \n",
       "5                Believer  Imagine Dragons                modern rock  2017   \n",
       "\n",
       "   beats.per.minute  energy  danceability  loudness.dB  liveness  valance  \\\n",
       "0               171      73            51           -6         9       33   \n",
       "1                95      82            55           -4        34       56   \n",
       "2                91      72            70           -4        32       73   \n",
       "4                95      45            60           -6        11       17   \n",
       "5               125      78            78           -4         8       67   \n",
       "\n",
       "   length  acousticness  speechiness  popularity  \n",
       "0     200             0            6          91  \n",
       "1     174            12            5          88  \n",
       "2     141            17            4          88  \n",
       "4     263            16            2          86  \n",
       "5     204             6           13          86  "
      ]
     },
     "execution_count": 11,
     "metadata": {},
     "output_type": "execute_result"
    }
   ],
   "source": [
    "df.drop(df.index[3]).head()"
   ]
  },
  {
   "cell_type": "markdown",
   "id": "a0279faa",
   "metadata": {},
   "source": [
    "### Dropping Columns:-"
   ]
  },
  {
   "cell_type": "code",
   "execution_count": 12,
   "id": "1c3c6c8b",
   "metadata": {},
   "outputs": [
    {
     "data": {
      "text/html": [
       "<div>\n",
       "<style scoped>\n",
       "    .dataframe tbody tr th:only-of-type {\n",
       "        vertical-align: middle;\n",
       "    }\n",
       "\n",
       "    .dataframe tbody tr th {\n",
       "        vertical-align: top;\n",
       "    }\n",
       "\n",
       "    .dataframe thead th {\n",
       "        text-align: right;\n",
       "    }\n",
       "</style>\n",
       "<table border=\"1\" class=\"dataframe\">\n",
       "  <thead>\n",
       "    <tr style=\"text-align: right;\">\n",
       "      <th></th>\n",
       "      <th>title</th>\n",
       "      <th>artist</th>\n",
       "      <th>top genre</th>\n",
       "      <th>year</th>\n",
       "      <th>beats.per.minute</th>\n",
       "      <th>energy</th>\n",
       "      <th>danceability</th>\n",
       "      <th>loudness.dB</th>\n",
       "      <th>valance</th>\n",
       "      <th>length</th>\n",
       "      <th>acousticness</th>\n",
       "      <th>speechiness</th>\n",
       "      <th>popularity</th>\n",
       "    </tr>\n",
       "  </thead>\n",
       "  <tbody>\n",
       "    <tr>\n",
       "      <th>0</th>\n",
       "      <td>Blinding Lights</td>\n",
       "      <td>The Weeknd</td>\n",
       "      <td>canadian contemporary r&amp;b</td>\n",
       "      <td>2020</td>\n",
       "      <td>171</td>\n",
       "      <td>73</td>\n",
       "      <td>51</td>\n",
       "      <td>-6</td>\n",
       "      <td>33</td>\n",
       "      <td>200</td>\n",
       "      <td>0</td>\n",
       "      <td>6</td>\n",
       "      <td>91</td>\n",
       "    </tr>\n",
       "    <tr>\n",
       "      <th>1</th>\n",
       "      <td>Watermelon Sugar</td>\n",
       "      <td>Harry Styles</td>\n",
       "      <td>pop</td>\n",
       "      <td>2019</td>\n",
       "      <td>95</td>\n",
       "      <td>82</td>\n",
       "      <td>55</td>\n",
       "      <td>-4</td>\n",
       "      <td>56</td>\n",
       "      <td>174</td>\n",
       "      <td>12</td>\n",
       "      <td>5</td>\n",
       "      <td>88</td>\n",
       "    </tr>\n",
       "    <tr>\n",
       "      <th>2</th>\n",
       "      <td>Mood (feat. iann dior)</td>\n",
       "      <td>24kGoldn</td>\n",
       "      <td>cali rap</td>\n",
       "      <td>2021</td>\n",
       "      <td>91</td>\n",
       "      <td>72</td>\n",
       "      <td>70</td>\n",
       "      <td>-4</td>\n",
       "      <td>73</td>\n",
       "      <td>141</td>\n",
       "      <td>17</td>\n",
       "      <td>4</td>\n",
       "      <td>88</td>\n",
       "    </tr>\n",
       "    <tr>\n",
       "      <th>3</th>\n",
       "      <td>Someone You Loved</td>\n",
       "      <td>Lewis Capaldi</td>\n",
       "      <td>pop</td>\n",
       "      <td>2019</td>\n",
       "      <td>110</td>\n",
       "      <td>41</td>\n",
       "      <td>50</td>\n",
       "      <td>-6</td>\n",
       "      <td>45</td>\n",
       "      <td>182</td>\n",
       "      <td>75</td>\n",
       "      <td>3</td>\n",
       "      <td>86</td>\n",
       "    </tr>\n",
       "    <tr>\n",
       "      <th>4</th>\n",
       "      <td>Perfect</td>\n",
       "      <td>Ed Sheeran</td>\n",
       "      <td>pop</td>\n",
       "      <td>2017</td>\n",
       "      <td>95</td>\n",
       "      <td>45</td>\n",
       "      <td>60</td>\n",
       "      <td>-6</td>\n",
       "      <td>17</td>\n",
       "      <td>263</td>\n",
       "      <td>16</td>\n",
       "      <td>2</td>\n",
       "      <td>86</td>\n",
       "    </tr>\n",
       "  </tbody>\n",
       "</table>\n",
       "</div>"
      ],
      "text/plain": [
       "                    title         artist                  top genre  year  \\\n",
       "0         Blinding Lights     The Weeknd  canadian contemporary r&b  2020   \n",
       "1        Watermelon Sugar   Harry Styles                        pop  2019   \n",
       "2  Mood (feat. iann dior)       24kGoldn                   cali rap  2021   \n",
       "3       Someone You Loved  Lewis Capaldi                        pop  2019   \n",
       "4                 Perfect     Ed Sheeran                        pop  2017   \n",
       "\n",
       "   beats.per.minute  energy  danceability  loudness.dB  valance  length  \\\n",
       "0               171      73            51           -6       33     200   \n",
       "1                95      82            55           -4       56     174   \n",
       "2                91      72            70           -4       73     141   \n",
       "3               110      41            50           -6       45     182   \n",
       "4                95      45            60           -6       17     263   \n",
       "\n",
       "   acousticness  speechiness  popularity  \n",
       "0             0            6          91  \n",
       "1            12            5          88  \n",
       "2            17            4          88  \n",
       "3            75            3          86  \n",
       "4            16            2          86  "
      ]
     },
     "execution_count": 12,
     "metadata": {},
     "output_type": "execute_result"
    }
   ],
   "source": [
    "df.drop('liveness',axis=1).head()     #axis=1 denotes column"
   ]
  },
  {
   "cell_type": "markdown",
   "id": "a6441b6c",
   "metadata": {},
   "source": [
    "#### Dropping a column based on the Column Index:- "
   ]
  },
  {
   "cell_type": "code",
   "execution_count": 13,
   "id": "ed8a4818",
   "metadata": {},
   "outputs": [
    {
     "data": {
      "text/html": [
       "<div>\n",
       "<style scoped>\n",
       "    .dataframe tbody tr th:only-of-type {\n",
       "        vertical-align: middle;\n",
       "    }\n",
       "\n",
       "    .dataframe tbody tr th {\n",
       "        vertical-align: top;\n",
       "    }\n",
       "\n",
       "    .dataframe thead th {\n",
       "        text-align: right;\n",
       "    }\n",
       "</style>\n",
       "<table border=\"1\" class=\"dataframe\">\n",
       "  <thead>\n",
       "    <tr style=\"text-align: right;\">\n",
       "      <th></th>\n",
       "      <th>title</th>\n",
       "      <th>artist</th>\n",
       "      <th>top genre</th>\n",
       "      <th>beats.per.minute</th>\n",
       "      <th>energy</th>\n",
       "      <th>danceability</th>\n",
       "      <th>loudness.dB</th>\n",
       "      <th>liveness</th>\n",
       "      <th>valance</th>\n",
       "      <th>length</th>\n",
       "      <th>acousticness</th>\n",
       "      <th>speechiness</th>\n",
       "      <th>popularity</th>\n",
       "    </tr>\n",
       "  </thead>\n",
       "  <tbody>\n",
       "    <tr>\n",
       "      <th>0</th>\n",
       "      <td>Blinding Lights</td>\n",
       "      <td>The Weeknd</td>\n",
       "      <td>canadian contemporary r&amp;b</td>\n",
       "      <td>171</td>\n",
       "      <td>73</td>\n",
       "      <td>51</td>\n",
       "      <td>-6</td>\n",
       "      <td>9</td>\n",
       "      <td>33</td>\n",
       "      <td>200</td>\n",
       "      <td>0</td>\n",
       "      <td>6</td>\n",
       "      <td>91</td>\n",
       "    </tr>\n",
       "    <tr>\n",
       "      <th>1</th>\n",
       "      <td>Watermelon Sugar</td>\n",
       "      <td>Harry Styles</td>\n",
       "      <td>pop</td>\n",
       "      <td>95</td>\n",
       "      <td>82</td>\n",
       "      <td>55</td>\n",
       "      <td>-4</td>\n",
       "      <td>34</td>\n",
       "      <td>56</td>\n",
       "      <td>174</td>\n",
       "      <td>12</td>\n",
       "      <td>5</td>\n",
       "      <td>88</td>\n",
       "    </tr>\n",
       "    <tr>\n",
       "      <th>2</th>\n",
       "      <td>Mood (feat. iann dior)</td>\n",
       "      <td>24kGoldn</td>\n",
       "      <td>cali rap</td>\n",
       "      <td>91</td>\n",
       "      <td>72</td>\n",
       "      <td>70</td>\n",
       "      <td>-4</td>\n",
       "      <td>32</td>\n",
       "      <td>73</td>\n",
       "      <td>141</td>\n",
       "      <td>17</td>\n",
       "      <td>4</td>\n",
       "      <td>88</td>\n",
       "    </tr>\n",
       "    <tr>\n",
       "      <th>3</th>\n",
       "      <td>Someone You Loved</td>\n",
       "      <td>Lewis Capaldi</td>\n",
       "      <td>pop</td>\n",
       "      <td>110</td>\n",
       "      <td>41</td>\n",
       "      <td>50</td>\n",
       "      <td>-6</td>\n",
       "      <td>11</td>\n",
       "      <td>45</td>\n",
       "      <td>182</td>\n",
       "      <td>75</td>\n",
       "      <td>3</td>\n",
       "      <td>86</td>\n",
       "    </tr>\n",
       "    <tr>\n",
       "      <th>4</th>\n",
       "      <td>Perfect</td>\n",
       "      <td>Ed Sheeran</td>\n",
       "      <td>pop</td>\n",
       "      <td>95</td>\n",
       "      <td>45</td>\n",
       "      <td>60</td>\n",
       "      <td>-6</td>\n",
       "      <td>11</td>\n",
       "      <td>17</td>\n",
       "      <td>263</td>\n",
       "      <td>16</td>\n",
       "      <td>2</td>\n",
       "      <td>86</td>\n",
       "    </tr>\n",
       "  </tbody>\n",
       "</table>\n",
       "</div>"
      ],
      "text/plain": [
       "                    title         artist                  top genre  \\\n",
       "0         Blinding Lights     The Weeknd  canadian contemporary r&b   \n",
       "1        Watermelon Sugar   Harry Styles                        pop   \n",
       "2  Mood (feat. iann dior)       24kGoldn                   cali rap   \n",
       "3       Someone You Loved  Lewis Capaldi                        pop   \n",
       "4                 Perfect     Ed Sheeran                        pop   \n",
       "\n",
       "   beats.per.minute  energy  danceability  loudness.dB  liveness  valance  \\\n",
       "0               171      73            51           -6         9       33   \n",
       "1                95      82            55           -4        34       56   \n",
       "2                91      72            70           -4        32       73   \n",
       "3               110      41            50           -6        11       45   \n",
       "4                95      45            60           -6        11       17   \n",
       "\n",
       "   length  acousticness  speechiness  popularity  \n",
       "0     200             0            6          91  \n",
       "1     174            12            5          88  \n",
       "2     141            17            4          88  \n",
       "3     182            75            3          86  \n",
       "4     263            16            2          86  "
      ]
     },
     "execution_count": 13,
     "metadata": {},
     "output_type": "execute_result"
    }
   ],
   "source": [
    "df.drop(df.columns[3],axis=1).head()  #column 4 is removed"
   ]
  },
  {
   "cell_type": "markdown",
   "id": "672a5970",
   "metadata": {},
   "source": [
    "#### If we want to drop more than one column:- "
   ]
  },
  {
   "cell_type": "code",
   "execution_count": 15,
   "id": "5eb4a36b",
   "metadata": {},
   "outputs": [
    {
     "data": {
      "text/html": [
       "<div>\n",
       "<style scoped>\n",
       "    .dataframe tbody tr th:only-of-type {\n",
       "        vertical-align: middle;\n",
       "    }\n",
       "\n",
       "    .dataframe tbody tr th {\n",
       "        vertical-align: top;\n",
       "    }\n",
       "\n",
       "    .dataframe thead th {\n",
       "        text-align: right;\n",
       "    }\n",
       "</style>\n",
       "<table border=\"1\" class=\"dataframe\">\n",
       "  <thead>\n",
       "    <tr style=\"text-align: right;\">\n",
       "      <th></th>\n",
       "      <th>top genre</th>\n",
       "      <th>year</th>\n",
       "      <th>beats.per.minute</th>\n",
       "      <th>energy</th>\n",
       "      <th>danceability</th>\n",
       "      <th>loudness.dB</th>\n",
       "      <th>liveness</th>\n",
       "      <th>valance</th>\n",
       "      <th>length</th>\n",
       "      <th>acousticness</th>\n",
       "      <th>speechiness</th>\n",
       "      <th>popularity</th>\n",
       "    </tr>\n",
       "  </thead>\n",
       "  <tbody>\n",
       "    <tr>\n",
       "      <th>0</th>\n",
       "      <td>canadian contemporary r&amp;b</td>\n",
       "      <td>2020</td>\n",
       "      <td>171</td>\n",
       "      <td>73</td>\n",
       "      <td>51</td>\n",
       "      <td>-6</td>\n",
       "      <td>9</td>\n",
       "      <td>33</td>\n",
       "      <td>200</td>\n",
       "      <td>0</td>\n",
       "      <td>6</td>\n",
       "      <td>91</td>\n",
       "    </tr>\n",
       "    <tr>\n",
       "      <th>1</th>\n",
       "      <td>pop</td>\n",
       "      <td>2019</td>\n",
       "      <td>95</td>\n",
       "      <td>82</td>\n",
       "      <td>55</td>\n",
       "      <td>-4</td>\n",
       "      <td>34</td>\n",
       "      <td>56</td>\n",
       "      <td>174</td>\n",
       "      <td>12</td>\n",
       "      <td>5</td>\n",
       "      <td>88</td>\n",
       "    </tr>\n",
       "    <tr>\n",
       "      <th>2</th>\n",
       "      <td>cali rap</td>\n",
       "      <td>2021</td>\n",
       "      <td>91</td>\n",
       "      <td>72</td>\n",
       "      <td>70</td>\n",
       "      <td>-4</td>\n",
       "      <td>32</td>\n",
       "      <td>73</td>\n",
       "      <td>141</td>\n",
       "      <td>17</td>\n",
       "      <td>4</td>\n",
       "      <td>88</td>\n",
       "    </tr>\n",
       "    <tr>\n",
       "      <th>3</th>\n",
       "      <td>pop</td>\n",
       "      <td>2019</td>\n",
       "      <td>110</td>\n",
       "      <td>41</td>\n",
       "      <td>50</td>\n",
       "      <td>-6</td>\n",
       "      <td>11</td>\n",
       "      <td>45</td>\n",
       "      <td>182</td>\n",
       "      <td>75</td>\n",
       "      <td>3</td>\n",
       "      <td>86</td>\n",
       "    </tr>\n",
       "    <tr>\n",
       "      <th>4</th>\n",
       "      <td>pop</td>\n",
       "      <td>2017</td>\n",
       "      <td>95</td>\n",
       "      <td>45</td>\n",
       "      <td>60</td>\n",
       "      <td>-6</td>\n",
       "      <td>11</td>\n",
       "      <td>17</td>\n",
       "      <td>263</td>\n",
       "      <td>16</td>\n",
       "      <td>2</td>\n",
       "      <td>86</td>\n",
       "    </tr>\n",
       "  </tbody>\n",
       "</table>\n",
       "</div>"
      ],
      "text/plain": [
       "                   top genre  year  beats.per.minute  energy  danceability  \\\n",
       "0  canadian contemporary r&b  2020               171      73            51   \n",
       "1                        pop  2019                95      82            55   \n",
       "2                   cali rap  2021                91      72            70   \n",
       "3                        pop  2019               110      41            50   \n",
       "4                        pop  2017                95      45            60   \n",
       "\n",
       "   loudness.dB  liveness  valance  length  acousticness  speechiness  \\\n",
       "0           -6         9       33     200             0            6   \n",
       "1           -4        34       56     174            12            5   \n",
       "2           -4        32       73     141            17            4   \n",
       "3           -6        11       45     182            75            3   \n",
       "4           -6        11       17     263            16            2   \n",
       "\n",
       "   popularity  \n",
       "0          91  \n",
       "1          88  \n",
       "2          88  \n",
       "3          86  \n",
       "4          86  "
      ]
     },
     "execution_count": 15,
     "metadata": {},
     "output_type": "execute_result"
    }
   ],
   "source": [
    "df.drop(['title','artist'],axis=1).head() #column 'title' and 'artist' was removed"
   ]
  },
  {
   "cell_type": "markdown",
   "id": "eb67355e",
   "metadata": {},
   "source": [
    "### Checking Duplicates:- "
   ]
  },
  {
   "cell_type": "code",
   "execution_count": 17,
   "id": "711a529d",
   "metadata": {},
   "outputs": [
    {
     "data": {
      "text/plain": [
       "0"
      ]
     },
     "execution_count": 17,
     "metadata": {},
     "output_type": "execute_result"
    }
   ],
   "source": [
    "df.duplicated().sum()   #that means there is no any duplicate value"
   ]
  },
  {
   "cell_type": "markdown",
   "id": "5da99d07",
   "metadata": {},
   "source": [
    "### Handling Null values:- "
   ]
  },
  {
   "cell_type": "code",
   "execution_count": 19,
   "id": "d2d5ac64",
   "metadata": {},
   "outputs": [
    {
     "data": {
      "text/html": [
       "<div>\n",
       "<style scoped>\n",
       "    .dataframe tbody tr th:only-of-type {\n",
       "        vertical-align: middle;\n",
       "    }\n",
       "\n",
       "    .dataframe tbody tr th {\n",
       "        vertical-align: top;\n",
       "    }\n",
       "\n",
       "    .dataframe thead th {\n",
       "        text-align: right;\n",
       "    }\n",
       "</style>\n",
       "<table border=\"1\" class=\"dataframe\">\n",
       "  <thead>\n",
       "    <tr style=\"text-align: right;\">\n",
       "      <th></th>\n",
       "      <th>title</th>\n",
       "      <th>artist</th>\n",
       "      <th>top genre</th>\n",
       "      <th>year</th>\n",
       "      <th>beats.per.minute</th>\n",
       "      <th>energy</th>\n",
       "      <th>danceability</th>\n",
       "      <th>loudness.dB</th>\n",
       "      <th>liveness</th>\n",
       "      <th>valance</th>\n",
       "      <th>length</th>\n",
       "      <th>acousticness</th>\n",
       "      <th>speechiness</th>\n",
       "      <th>popularity</th>\n",
       "    </tr>\n",
       "  </thead>\n",
       "  <tbody>\n",
       "    <tr>\n",
       "      <th>0</th>\n",
       "      <td>False</td>\n",
       "      <td>False</td>\n",
       "      <td>False</td>\n",
       "      <td>False</td>\n",
       "      <td>False</td>\n",
       "      <td>False</td>\n",
       "      <td>False</td>\n",
       "      <td>False</td>\n",
       "      <td>False</td>\n",
       "      <td>False</td>\n",
       "      <td>False</td>\n",
       "      <td>False</td>\n",
       "      <td>False</td>\n",
       "      <td>False</td>\n",
       "    </tr>\n",
       "    <tr>\n",
       "      <th>1</th>\n",
       "      <td>False</td>\n",
       "      <td>False</td>\n",
       "      <td>False</td>\n",
       "      <td>False</td>\n",
       "      <td>False</td>\n",
       "      <td>False</td>\n",
       "      <td>False</td>\n",
       "      <td>False</td>\n",
       "      <td>False</td>\n",
       "      <td>False</td>\n",
       "      <td>False</td>\n",
       "      <td>False</td>\n",
       "      <td>False</td>\n",
       "      <td>False</td>\n",
       "    </tr>\n",
       "    <tr>\n",
       "      <th>2</th>\n",
       "      <td>False</td>\n",
       "      <td>False</td>\n",
       "      <td>False</td>\n",
       "      <td>False</td>\n",
       "      <td>False</td>\n",
       "      <td>False</td>\n",
       "      <td>False</td>\n",
       "      <td>False</td>\n",
       "      <td>False</td>\n",
       "      <td>False</td>\n",
       "      <td>False</td>\n",
       "      <td>False</td>\n",
       "      <td>False</td>\n",
       "      <td>False</td>\n",
       "    </tr>\n",
       "    <tr>\n",
       "      <th>3</th>\n",
       "      <td>False</td>\n",
       "      <td>False</td>\n",
       "      <td>False</td>\n",
       "      <td>False</td>\n",
       "      <td>False</td>\n",
       "      <td>False</td>\n",
       "      <td>False</td>\n",
       "      <td>False</td>\n",
       "      <td>False</td>\n",
       "      <td>False</td>\n",
       "      <td>False</td>\n",
       "      <td>False</td>\n",
       "      <td>False</td>\n",
       "      <td>False</td>\n",
       "    </tr>\n",
       "    <tr>\n",
       "      <th>4</th>\n",
       "      <td>False</td>\n",
       "      <td>False</td>\n",
       "      <td>False</td>\n",
       "      <td>False</td>\n",
       "      <td>False</td>\n",
       "      <td>False</td>\n",
       "      <td>False</td>\n",
       "      <td>False</td>\n",
       "      <td>False</td>\n",
       "      <td>False</td>\n",
       "      <td>False</td>\n",
       "      <td>False</td>\n",
       "      <td>False</td>\n",
       "      <td>False</td>\n",
       "    </tr>\n",
       "    <tr>\n",
       "      <th>...</th>\n",
       "      <td>...</td>\n",
       "      <td>...</td>\n",
       "      <td>...</td>\n",
       "      <td>...</td>\n",
       "      <td>...</td>\n",
       "      <td>...</td>\n",
       "      <td>...</td>\n",
       "      <td>...</td>\n",
       "      <td>...</td>\n",
       "      <td>...</td>\n",
       "      <td>...</td>\n",
       "      <td>...</td>\n",
       "      <td>...</td>\n",
       "      <td>...</td>\n",
       "    </tr>\n",
       "    <tr>\n",
       "      <th>95</th>\n",
       "      <td>False</td>\n",
       "      <td>False</td>\n",
       "      <td>False</td>\n",
       "      <td>False</td>\n",
       "      <td>False</td>\n",
       "      <td>False</td>\n",
       "      <td>False</td>\n",
       "      <td>False</td>\n",
       "      <td>False</td>\n",
       "      <td>False</td>\n",
       "      <td>False</td>\n",
       "      <td>False</td>\n",
       "      <td>False</td>\n",
       "      <td>False</td>\n",
       "    </tr>\n",
       "    <tr>\n",
       "      <th>96</th>\n",
       "      <td>False</td>\n",
       "      <td>False</td>\n",
       "      <td>False</td>\n",
       "      <td>False</td>\n",
       "      <td>False</td>\n",
       "      <td>False</td>\n",
       "      <td>False</td>\n",
       "      <td>False</td>\n",
       "      <td>False</td>\n",
       "      <td>False</td>\n",
       "      <td>False</td>\n",
       "      <td>False</td>\n",
       "      <td>False</td>\n",
       "      <td>False</td>\n",
       "    </tr>\n",
       "    <tr>\n",
       "      <th>97</th>\n",
       "      <td>False</td>\n",
       "      <td>False</td>\n",
       "      <td>False</td>\n",
       "      <td>False</td>\n",
       "      <td>False</td>\n",
       "      <td>False</td>\n",
       "      <td>False</td>\n",
       "      <td>False</td>\n",
       "      <td>False</td>\n",
       "      <td>False</td>\n",
       "      <td>False</td>\n",
       "      <td>False</td>\n",
       "      <td>False</td>\n",
       "      <td>False</td>\n",
       "    </tr>\n",
       "    <tr>\n",
       "      <th>98</th>\n",
       "      <td>False</td>\n",
       "      <td>False</td>\n",
       "      <td>False</td>\n",
       "      <td>False</td>\n",
       "      <td>False</td>\n",
       "      <td>False</td>\n",
       "      <td>False</td>\n",
       "      <td>False</td>\n",
       "      <td>False</td>\n",
       "      <td>False</td>\n",
       "      <td>False</td>\n",
       "      <td>False</td>\n",
       "      <td>False</td>\n",
       "      <td>False</td>\n",
       "    </tr>\n",
       "    <tr>\n",
       "      <th>99</th>\n",
       "      <td>False</td>\n",
       "      <td>False</td>\n",
       "      <td>False</td>\n",
       "      <td>False</td>\n",
       "      <td>False</td>\n",
       "      <td>False</td>\n",
       "      <td>False</td>\n",
       "      <td>False</td>\n",
       "      <td>False</td>\n",
       "      <td>False</td>\n",
       "      <td>False</td>\n",
       "      <td>False</td>\n",
       "      <td>False</td>\n",
       "      <td>False</td>\n",
       "    </tr>\n",
       "  </tbody>\n",
       "</table>\n",
       "<p>100 rows × 14 columns</p>\n",
       "</div>"
      ],
      "text/plain": [
       "    title  artist  top genre   year  beats.per.minute  energy  danceability  \\\n",
       "0   False   False      False  False             False   False         False   \n",
       "1   False   False      False  False             False   False         False   \n",
       "2   False   False      False  False             False   False         False   \n",
       "3   False   False      False  False             False   False         False   \n",
       "4   False   False      False  False             False   False         False   \n",
       "..    ...     ...        ...    ...               ...     ...           ...   \n",
       "95  False   False      False  False             False   False         False   \n",
       "96  False   False      False  False             False   False         False   \n",
       "97  False   False      False  False             False   False         False   \n",
       "98  False   False      False  False             False   False         False   \n",
       "99  False   False      False  False             False   False         False   \n",
       "\n",
       "    loudness.dB  liveness  valance  length  acousticness  speechiness  \\\n",
       "0         False     False    False   False         False        False   \n",
       "1         False     False    False   False         False        False   \n",
       "2         False     False    False   False         False        False   \n",
       "3         False     False    False   False         False        False   \n",
       "4         False     False    False   False         False        False   \n",
       "..          ...       ...      ...     ...           ...          ...   \n",
       "95        False     False    False   False         False        False   \n",
       "96        False     False    False   False         False        False   \n",
       "97        False     False    False   False         False        False   \n",
       "98        False     False    False   False         False        False   \n",
       "99        False     False    False   False         False        False   \n",
       "\n",
       "    popularity  \n",
       "0        False  \n",
       "1        False  \n",
       "2        False  \n",
       "3        False  \n",
       "4        False  \n",
       "..         ...  \n",
       "95       False  \n",
       "96       False  \n",
       "97       False  \n",
       "98       False  \n",
       "99       False  \n",
       "\n",
       "[100 rows x 14 columns]"
      ]
     },
     "execution_count": 19,
     "metadata": {},
     "output_type": "execute_result"
    }
   ],
   "source": [
    "df.isnull()    # it gives values in the form of True or False"
   ]
  },
  {
   "cell_type": "code",
   "execution_count": 20,
   "id": "80613a21",
   "metadata": {},
   "outputs": [
    {
     "data": {
      "text/plain": [
       "title               0\n",
       "artist              0\n",
       "top genre           0\n",
       "year                0\n",
       "beats.per.minute    0\n",
       "energy              0\n",
       "danceability        0\n",
       "loudness.dB         0\n",
       "liveness            0\n",
       "valance             0\n",
       "length              0\n",
       "acousticness        0\n",
       "speechiness         0\n",
       "popularity          0\n",
       "dtype: int64"
      ]
     },
     "execution_count": 20,
     "metadata": {},
     "output_type": "execute_result"
    }
   ],
   "source": [
    "df.isnull().sum()  #it gives total number of null values/empty columns"
   ]
  },
  {
   "cell_type": "markdown",
   "id": "8e72d4b6",
   "metadata": {},
   "source": [
    "## Filtering "
   ]
  },
  {
   "cell_type": "markdown",
   "id": "5b4fc5eb",
   "metadata": {},
   "source": [
    "#### Finding all the songs which belongs to \"pop\" in top_genre. "
   ]
  },
  {
   "cell_type": "code",
   "execution_count": 22,
   "id": "61c34610",
   "metadata": {},
   "outputs": [
    {
     "data": {
      "text/plain": [
       "dance pop                    28\n",
       "pop                          11\n",
       "dfw rap                       7\n",
       "modern rock                   6\n",
       "canadian pop                  6\n",
       "canadian contemporary r&b     4\n",
       "electropop                    4\n",
       "melodic rap                   3\n",
       "latin                         2\n",
       "folk-pop                      2\n",
       "canadian hip hop              2\n",
       "emo rap                       2\n",
       "rap                           2\n",
       "north carolina hip hop        1\n",
       "boy band                      1\n",
       "detroit hip hop               1\n",
       "electro house                 1\n",
       "australian dance              1\n",
       "beatlesque                    1\n",
       "cali rap                      1\n",
       "danish pop                    1\n",
       "acoustic pop                  1\n",
       "lgbtq+ hip hop                1\n",
       "gangster rap                  1\n",
       "chicago rap                   1\n",
       "australian pop                1\n",
       "alternative rock              1\n",
       "conscious hip hop             1\n",
       "classic rock                  1\n",
       "neo soul                      1\n",
       "pop rap                       1\n",
       "brostep                       1\n",
       "irish singer-songwriter       1\n",
       "pop dance                     1\n",
       "Name: top genre, dtype: int64"
      ]
     },
     "execution_count": 22,
     "metadata": {},
     "output_type": "execute_result"
    }
   ],
   "source": [
    "df['top genre'].value_counts()"
   ]
  },
  {
   "cell_type": "code",
   "execution_count": 26,
   "id": "20c982f1",
   "metadata": {},
   "outputs": [
    {
     "name": "stdout",
     "output_type": "stream",
     "text": [
      "(11, 14)\n"
     ]
    },
    {
     "data": {
      "text/html": [
       "<div>\n",
       "<style scoped>\n",
       "    .dataframe tbody tr th:only-of-type {\n",
       "        vertical-align: middle;\n",
       "    }\n",
       "\n",
       "    .dataframe tbody tr th {\n",
       "        vertical-align: top;\n",
       "    }\n",
       "\n",
       "    .dataframe thead th {\n",
       "        text-align: right;\n",
       "    }\n",
       "</style>\n",
       "<table border=\"1\" class=\"dataframe\">\n",
       "  <thead>\n",
       "    <tr style=\"text-align: right;\">\n",
       "      <th></th>\n",
       "      <th>title</th>\n",
       "      <th>artist</th>\n",
       "      <th>top genre</th>\n",
       "      <th>year</th>\n",
       "      <th>beats.per.minute</th>\n",
       "      <th>energy</th>\n",
       "      <th>danceability</th>\n",
       "      <th>loudness.dB</th>\n",
       "      <th>liveness</th>\n",
       "      <th>valance</th>\n",
       "      <th>length</th>\n",
       "      <th>acousticness</th>\n",
       "      <th>speechiness</th>\n",
       "      <th>popularity</th>\n",
       "    </tr>\n",
       "  </thead>\n",
       "  <tbody>\n",
       "    <tr>\n",
       "      <th>1</th>\n",
       "      <td>Watermelon Sugar</td>\n",
       "      <td>Harry Styles</td>\n",
       "      <td>pop</td>\n",
       "      <td>2019</td>\n",
       "      <td>95</td>\n",
       "      <td>82</td>\n",
       "      <td>55</td>\n",
       "      <td>-4</td>\n",
       "      <td>34</td>\n",
       "      <td>56</td>\n",
       "      <td>174</td>\n",
       "      <td>12</td>\n",
       "      <td>5</td>\n",
       "      <td>88</td>\n",
       "    </tr>\n",
       "    <tr>\n",
       "      <th>3</th>\n",
       "      <td>Someone You Loved</td>\n",
       "      <td>Lewis Capaldi</td>\n",
       "      <td>pop</td>\n",
       "      <td>2019</td>\n",
       "      <td>110</td>\n",
       "      <td>41</td>\n",
       "      <td>50</td>\n",
       "      <td>-6</td>\n",
       "      <td>11</td>\n",
       "      <td>45</td>\n",
       "      <td>182</td>\n",
       "      <td>75</td>\n",
       "      <td>3</td>\n",
       "      <td>86</td>\n",
       "    </tr>\n",
       "    <tr>\n",
       "      <th>4</th>\n",
       "      <td>Perfect</td>\n",
       "      <td>Ed Sheeran</td>\n",
       "      <td>pop</td>\n",
       "      <td>2017</td>\n",
       "      <td>95</td>\n",
       "      <td>45</td>\n",
       "      <td>60</td>\n",
       "      <td>-6</td>\n",
       "      <td>11</td>\n",
       "      <td>17</td>\n",
       "      <td>263</td>\n",
       "      <td>16</td>\n",
       "      <td>2</td>\n",
       "      <td>86</td>\n",
       "    </tr>\n",
       "    <tr>\n",
       "      <th>8</th>\n",
       "      <td>Shape of You</td>\n",
       "      <td>Ed Sheeran</td>\n",
       "      <td>pop</td>\n",
       "      <td>2017</td>\n",
       "      <td>96</td>\n",
       "      <td>65</td>\n",
       "      <td>83</td>\n",
       "      <td>-3</td>\n",
       "      <td>9</td>\n",
       "      <td>93</td>\n",
       "      <td>234</td>\n",
       "      <td>58</td>\n",
       "      <td>8</td>\n",
       "      <td>85</td>\n",
       "    </tr>\n",
       "    <tr>\n",
       "      <th>9</th>\n",
       "      <td>Memories</td>\n",
       "      <td>Maroon 5</td>\n",
       "      <td>pop</td>\n",
       "      <td>2021</td>\n",
       "      <td>91</td>\n",
       "      <td>33</td>\n",
       "      <td>78</td>\n",
       "      <td>-7</td>\n",
       "      <td>8</td>\n",
       "      <td>60</td>\n",
       "      <td>189</td>\n",
       "      <td>84</td>\n",
       "      <td>6</td>\n",
       "      <td>85</td>\n",
       "    </tr>\n",
       "  </tbody>\n",
       "</table>\n",
       "</div>"
      ],
      "text/plain": [
       "               title         artist top genre  year  beats.per.minute  energy  \\\n",
       "1   Watermelon Sugar   Harry Styles       pop  2019                95      82   \n",
       "3  Someone You Loved  Lewis Capaldi       pop  2019               110      41   \n",
       "4            Perfect     Ed Sheeran       pop  2017                95      45   \n",
       "8       Shape of You     Ed Sheeran       pop  2017                96      65   \n",
       "9           Memories       Maroon 5       pop  2021                91      33   \n",
       "\n",
       "   danceability  loudness.dB  liveness  valance  length  acousticness  \\\n",
       "1            55           -4        34       56     174            12   \n",
       "3            50           -6        11       45     182            75   \n",
       "4            60           -6        11       17     263            16   \n",
       "8            83           -3         9       93     234            58   \n",
       "9            78           -7         8       60     189            84   \n",
       "\n",
       "   speechiness  popularity  \n",
       "1            5          88  \n",
       "3            3          86  \n",
       "4            2          86  \n",
       "8            8          85  \n",
       "9            6          85  "
      ]
     },
     "execution_count": 26,
     "metadata": {},
     "output_type": "execute_result"
    }
   ],
   "source": [
    "# creating different dataframe \"Df_pop\" to store value\n",
    "\n",
    "df_pop=df[df[\"top genre\"]==\"pop\"]\n",
    "print(df_pop.shape)\n",
    "df_pop.head()"
   ]
  },
  {
   "cell_type": "markdown",
   "id": "23d2e6f8",
   "metadata": {},
   "source": [
    "#### Finding all the songs which have \"pop\" as top genre and the singer name is \"Ed Sheeran\". "
   ]
  },
  {
   "cell_type": "code",
   "execution_count": 28,
   "id": "e72defcb",
   "metadata": {},
   "outputs": [
    {
     "name": "stdout",
     "output_type": "stream",
     "text": [
      "(5, 14)\n"
     ]
    },
    {
     "data": {
      "text/html": [
       "<div>\n",
       "<style scoped>\n",
       "    .dataframe tbody tr th:only-of-type {\n",
       "        vertical-align: middle;\n",
       "    }\n",
       "\n",
       "    .dataframe tbody tr th {\n",
       "        vertical-align: top;\n",
       "    }\n",
       "\n",
       "    .dataframe thead th {\n",
       "        text-align: right;\n",
       "    }\n",
       "</style>\n",
       "<table border=\"1\" class=\"dataframe\">\n",
       "  <thead>\n",
       "    <tr style=\"text-align: right;\">\n",
       "      <th></th>\n",
       "      <th>title</th>\n",
       "      <th>artist</th>\n",
       "      <th>top genre</th>\n",
       "      <th>year</th>\n",
       "      <th>beats.per.minute</th>\n",
       "      <th>energy</th>\n",
       "      <th>danceability</th>\n",
       "      <th>loudness.dB</th>\n",
       "      <th>liveness</th>\n",
       "      <th>valance</th>\n",
       "      <th>length</th>\n",
       "      <th>acousticness</th>\n",
       "      <th>speechiness</th>\n",
       "      <th>popularity</th>\n",
       "    </tr>\n",
       "  </thead>\n",
       "  <tbody>\n",
       "    <tr>\n",
       "      <th>4</th>\n",
       "      <td>Perfect</td>\n",
       "      <td>Ed Sheeran</td>\n",
       "      <td>pop</td>\n",
       "      <td>2017</td>\n",
       "      <td>95</td>\n",
       "      <td>45</td>\n",
       "      <td>60</td>\n",
       "      <td>-6</td>\n",
       "      <td>11</td>\n",
       "      <td>17</td>\n",
       "      <td>263</td>\n",
       "      <td>16</td>\n",
       "      <td>2</td>\n",
       "      <td>86</td>\n",
       "    </tr>\n",
       "    <tr>\n",
       "      <th>8</th>\n",
       "      <td>Shape of You</td>\n",
       "      <td>Ed Sheeran</td>\n",
       "      <td>pop</td>\n",
       "      <td>2017</td>\n",
       "      <td>96</td>\n",
       "      <td>65</td>\n",
       "      <td>83</td>\n",
       "      <td>-3</td>\n",
       "      <td>9</td>\n",
       "      <td>93</td>\n",
       "      <td>234</td>\n",
       "      <td>58</td>\n",
       "      <td>8</td>\n",
       "      <td>85</td>\n",
       "    </tr>\n",
       "    <tr>\n",
       "      <th>21</th>\n",
       "      <td>Photograph</td>\n",
       "      <td>Ed Sheeran</td>\n",
       "      <td>pop</td>\n",
       "      <td>2014</td>\n",
       "      <td>108</td>\n",
       "      <td>38</td>\n",
       "      <td>61</td>\n",
       "      <td>-10</td>\n",
       "      <td>10</td>\n",
       "      <td>20</td>\n",
       "      <td>259</td>\n",
       "      <td>61</td>\n",
       "      <td>5</td>\n",
       "      <td>83</td>\n",
       "    </tr>\n",
       "    <tr>\n",
       "      <th>29</th>\n",
       "      <td>Thinking out Loud</td>\n",
       "      <td>Ed Sheeran</td>\n",
       "      <td>pop</td>\n",
       "      <td>2014</td>\n",
       "      <td>79</td>\n",
       "      <td>45</td>\n",
       "      <td>78</td>\n",
       "      <td>-6</td>\n",
       "      <td>18</td>\n",
       "      <td>59</td>\n",
       "      <td>282</td>\n",
       "      <td>47</td>\n",
       "      <td>3</td>\n",
       "      <td>82</td>\n",
       "    </tr>\n",
       "    <tr>\n",
       "      <th>57</th>\n",
       "      <td>I Don't Care (with Justin Bieber)</td>\n",
       "      <td>Ed Sheeran</td>\n",
       "      <td>pop</td>\n",
       "      <td>2019</td>\n",
       "      <td>102</td>\n",
       "      <td>68</td>\n",
       "      <td>80</td>\n",
       "      <td>-5</td>\n",
       "      <td>9</td>\n",
       "      <td>84</td>\n",
       "      <td>220</td>\n",
       "      <td>9</td>\n",
       "      <td>4</td>\n",
       "      <td>80</td>\n",
       "    </tr>\n",
       "  </tbody>\n",
       "</table>\n",
       "</div>"
      ],
      "text/plain": [
       "                                title      artist top genre  year  \\\n",
       "4                             Perfect  Ed Sheeran       pop  2017   \n",
       "8                        Shape of You  Ed Sheeran       pop  2017   \n",
       "21                         Photograph  Ed Sheeran       pop  2014   \n",
       "29                  Thinking out Loud  Ed Sheeran       pop  2014   \n",
       "57  I Don't Care (with Justin Bieber)  Ed Sheeran       pop  2019   \n",
       "\n",
       "    beats.per.minute  energy  danceability  loudness.dB  liveness  valance  \\\n",
       "4                 95      45            60           -6        11       17   \n",
       "8                 96      65            83           -3         9       93   \n",
       "21               108      38            61          -10        10       20   \n",
       "29                79      45            78           -6        18       59   \n",
       "57               102      68            80           -5         9       84   \n",
       "\n",
       "    length  acousticness  speechiness  popularity  \n",
       "4      263            16            2          86  \n",
       "8      234            58            8          85  \n",
       "21     259            61            5          83  \n",
       "29     282            47            3          82  \n",
       "57     220             9            4          80  "
      ]
     },
     "execution_count": 28,
     "metadata": {},
     "output_type": "execute_result"
    }
   ],
   "source": [
    "# Creating another DataFrame named\n",
    "\n",
    "df2=df[(df['top genre']=='pop') & (df['artist']=='Ed Sheeran')]\n",
    "print(df2.shape)\n",
    "df2.head()"
   ]
  },
  {
   "cell_type": "markdown",
   "id": "f85ab7f3",
   "metadata": {},
   "source": [
    "#### Inference :-\n",
    "Ed sheeran's five songs is in spotify top 100 songs."
   ]
  },
  {
   "cell_type": "markdown",
   "id": "df8b80e3",
   "metadata": {},
   "source": [
    "## Query Function"
   ]
  },
  {
   "cell_type": "markdown",
   "id": "13fd2070",
   "metadata": {},
   "source": [
    "### Find all the songs whose reading score is less than the average popularity."
   ]
  },
  {
   "cell_type": "code",
   "execution_count": 31,
   "id": "edf69bec",
   "metadata": {},
   "outputs": [
    {
     "data": {
      "text/plain": [
       "79.67"
      ]
     },
     "execution_count": 31,
     "metadata": {},
     "output_type": "execute_result"
    }
   ],
   "source": [
    "avg_popu=df['popularity'].mean()\n",
    "avg_popu"
   ]
  },
  {
   "cell_type": "code",
   "execution_count": 35,
   "id": "4c751ae8",
   "metadata": {},
   "outputs": [
    {
     "name": "stdout",
     "output_type": "stream",
     "text": [
      "(30, 14)\n"
     ]
    },
    {
     "data": {
      "text/html": [
       "<div>\n",
       "<style scoped>\n",
       "    .dataframe tbody tr th:only-of-type {\n",
       "        vertical-align: middle;\n",
       "    }\n",
       "\n",
       "    .dataframe tbody tr th {\n",
       "        vertical-align: top;\n",
       "    }\n",
       "\n",
       "    .dataframe thead th {\n",
       "        text-align: right;\n",
       "    }\n",
       "</style>\n",
       "<table border=\"1\" class=\"dataframe\">\n",
       "  <thead>\n",
       "    <tr style=\"text-align: right;\">\n",
       "      <th></th>\n",
       "      <th>title</th>\n",
       "      <th>artist</th>\n",
       "      <th>top genre</th>\n",
       "      <th>year</th>\n",
       "      <th>beats.per.minute</th>\n",
       "      <th>energy</th>\n",
       "      <th>danceability</th>\n",
       "      <th>loudness.dB</th>\n",
       "      <th>liveness</th>\n",
       "      <th>valance</th>\n",
       "      <th>length</th>\n",
       "      <th>acousticness</th>\n",
       "      <th>speechiness</th>\n",
       "      <th>popularity</th>\n",
       "    </tr>\n",
       "  </thead>\n",
       "  <tbody>\n",
       "    <tr>\n",
       "      <th>70</th>\n",
       "      <td>New Rules</td>\n",
       "      <td>Dua Lipa</td>\n",
       "      <td>dance pop</td>\n",
       "      <td>2017</td>\n",
       "      <td>116</td>\n",
       "      <td>70</td>\n",
       "      <td>76</td>\n",
       "      <td>-6</td>\n",
       "      <td>15</td>\n",
       "      <td>61</td>\n",
       "      <td>209</td>\n",
       "      <td>0</td>\n",
       "      <td>7</td>\n",
       "      <td>79</td>\n",
       "    </tr>\n",
       "    <tr>\n",
       "      <th>71</th>\n",
       "      <td>Sorry</td>\n",
       "      <td>Justin Bieber</td>\n",
       "      <td>canadian pop</td>\n",
       "      <td>2015</td>\n",
       "      <td>100</td>\n",
       "      <td>76</td>\n",
       "      <td>65</td>\n",
       "      <td>-4</td>\n",
       "      <td>30</td>\n",
       "      <td>41</td>\n",
       "      <td>201</td>\n",
       "      <td>8</td>\n",
       "      <td>5</td>\n",
       "      <td>79</td>\n",
       "    </tr>\n",
       "    <tr>\n",
       "      <th>72</th>\n",
       "      <td>Don't Let Me Down</td>\n",
       "      <td>The Chainsmokers</td>\n",
       "      <td>dance pop</td>\n",
       "      <td>2016</td>\n",
       "      <td>160</td>\n",
       "      <td>87</td>\n",
       "      <td>53</td>\n",
       "      <td>-5</td>\n",
       "      <td>14</td>\n",
       "      <td>42</td>\n",
       "      <td>208</td>\n",
       "      <td>16</td>\n",
       "      <td>17</td>\n",
       "      <td>79</td>\n",
       "    </tr>\n",
       "    <tr>\n",
       "      <th>73</th>\n",
       "      <td>7 Years</td>\n",
       "      <td>Lukas Graham</td>\n",
       "      <td>danish pop</td>\n",
       "      <td>2016</td>\n",
       "      <td>120</td>\n",
       "      <td>47</td>\n",
       "      <td>77</td>\n",
       "      <td>-6</td>\n",
       "      <td>39</td>\n",
       "      <td>34</td>\n",
       "      <td>237</td>\n",
       "      <td>29</td>\n",
       "      <td>5</td>\n",
       "      <td>79</td>\n",
       "    </tr>\n",
       "    <tr>\n",
       "      <th>74</th>\n",
       "      <td>I Like It</td>\n",
       "      <td>Cardi B</td>\n",
       "      <td>dance pop</td>\n",
       "      <td>2018</td>\n",
       "      <td>136</td>\n",
       "      <td>73</td>\n",
       "      <td>82</td>\n",
       "      <td>-4</td>\n",
       "      <td>37</td>\n",
       "      <td>65</td>\n",
       "      <td>253</td>\n",
       "      <td>10</td>\n",
       "      <td>13</td>\n",
       "      <td>79</td>\n",
       "    </tr>\n",
       "  </tbody>\n",
       "</table>\n",
       "</div>"
      ],
      "text/plain": [
       "                title            artist     top genre  year  beats.per.minute  \\\n",
       "70          New Rules          Dua Lipa     dance pop  2017               116   \n",
       "71              Sorry     Justin Bieber  canadian pop  2015               100   \n",
       "72  Don't Let Me Down  The Chainsmokers     dance pop  2016               160   \n",
       "73            7 Years      Lukas Graham    danish pop  2016               120   \n",
       "74          I Like It           Cardi B     dance pop  2018               136   \n",
       "\n",
       "    energy  danceability  loudness.dB  liveness  valance  length  \\\n",
       "70      70            76           -6        15       61     209   \n",
       "71      76            65           -4        30       41     201   \n",
       "72      87            53           -5        14       42     208   \n",
       "73      47            77           -6        39       34     237   \n",
       "74      73            82           -4        37       65     253   \n",
       "\n",
       "    acousticness  speechiness  popularity  \n",
       "70             0            7          79  \n",
       "71             8            5          79  \n",
       "72            16           17          79  \n",
       "73            29            5          79  \n",
       "74            10           13          79  "
      ]
     },
     "execution_count": 35,
     "metadata": {},
     "output_type": "execute_result"
    }
   ],
   "source": [
    "q1=df.query(f'popularity<{avg_popu}')\n",
    "print(q1.shape)\n",
    "q1.head()"
   ]
  },
  {
   "cell_type": "markdown",
   "id": "e76a6686",
   "metadata": {},
   "source": [
    "## GroupBy Operations:-"
   ]
  },
  {
   "cell_type": "markdown",
   "id": "eb25f167",
   "metadata": {},
   "source": [
    "### Find sum of Beats.per.minute based on \"top genre\". "
   ]
  },
  {
   "cell_type": "code",
   "execution_count": 37,
   "id": "99c0a05c",
   "metadata": {},
   "outputs": [
    {
     "data": {
      "text/plain": [
       "dance pop                    28\n",
       "pop                          11\n",
       "dfw rap                       7\n",
       "modern rock                   6\n",
       "canadian pop                  6\n",
       "canadian contemporary r&b     4\n",
       "electropop                    4\n",
       "melodic rap                   3\n",
       "latin                         2\n",
       "folk-pop                      2\n",
       "canadian hip hop              2\n",
       "emo rap                       2\n",
       "rap                           2\n",
       "north carolina hip hop        1\n",
       "boy band                      1\n",
       "detroit hip hop               1\n",
       "electro house                 1\n",
       "australian dance              1\n",
       "beatlesque                    1\n",
       "cali rap                      1\n",
       "danish pop                    1\n",
       "acoustic pop                  1\n",
       "lgbtq+ hip hop                1\n",
       "gangster rap                  1\n",
       "chicago rap                   1\n",
       "australian pop                1\n",
       "alternative rock              1\n",
       "conscious hip hop             1\n",
       "classic rock                  1\n",
       "neo soul                      1\n",
       "pop rap                       1\n",
       "brostep                       1\n",
       "irish singer-songwriter       1\n",
       "pop dance                     1\n",
       "Name: top genre, dtype: int64"
      ]
     },
     "execution_count": 37,
     "metadata": {},
     "output_type": "execute_result"
    }
   ],
   "source": [
    "df['top genre'].value_counts()"
   ]
  },
  {
   "cell_type": "code",
   "execution_count": 41,
   "id": "5d8c1805",
   "metadata": {},
   "outputs": [
    {
     "data": {
      "text/plain": [
       "top genre\n",
       "acoustic pop                  151\n",
       "alternative rock              148\n",
       "australian dance               90\n",
       "australian pop                 98\n",
       "beatlesque                    174\n",
       "boy band                      120\n",
       "brostep                       100\n",
       "cali rap                       91\n",
       "canadian contemporary r&b     578\n",
       "canadian hip hop              181\n",
       "canadian pop                  675\n",
       "chicago rap                    84\n",
       "classic rock                   71\n",
       "conscious hip hop             150\n",
       "dance pop                    3109\n",
       "danish pop                    120\n",
       "detroit hip hop               171\n",
       "dfw rap                       922\n",
       "electro house                  90\n",
       "electropop                    422\n",
       "emo rap                       209\n",
       "folk-pop                      178\n",
       "gangster rap                   98\n",
       "irish singer-songwriter       129\n",
       "latin                         356\n",
       "lgbtq+ hip hop                136\n",
       "melodic rap                   394\n",
       "modern rock                   779\n",
       "neo soul                      120\n",
       "north carolina hip hop         90\n",
       "pop                          1106\n",
       "pop dance                     126\n",
       "pop rap                       146\n",
       "rap                           285\n",
       "Name: beats.per.minute, dtype: int64"
      ]
     },
     "execution_count": 41,
     "metadata": {},
     "output_type": "execute_result"
    }
   ],
   "source": [
    "# creating another dataframe to store sum of beatspermin based on top genre\n",
    "\n",
    "r1=df.groupby('top genre')['beats.per.minute'].sum()\n",
    "r1"
   ]
  },
  {
   "cell_type": "markdown",
   "id": "bba52a07",
   "metadata": {},
   "source": [
    "### Inference:-\n",
    "1.\"Dnce pop\"has the maximum beats per min i.e. 3109 followed by \"pop\" having 1106 bpm. \n",
    "2.\"classic rock\" has the maximum beats per min i.e. 71 followed by \"chicago rap\" having 84 bpm."
   ]
  },
  {
   "cell_type": "markdown",
   "id": "cc9ecd9f",
   "metadata": {},
   "source": [
    "## Pivot table:- "
   ]
  },
  {
   "cell_type": "markdown",
   "id": "8ac4ef6c",
   "metadata": {},
   "source": [
    "### Using pivot table create a Dataframe displaying yearwise mean of  liveness\tvalance\tand length.\n"
   ]
  },
  {
   "cell_type": "code",
   "execution_count": 42,
   "id": "dbd0afeb",
   "metadata": {},
   "outputs": [
    {
     "data": {
      "text/html": [
       "<div>\n",
       "<style scoped>\n",
       "    .dataframe tbody tr th:only-of-type {\n",
       "        vertical-align: middle;\n",
       "    }\n",
       "\n",
       "    .dataframe tbody tr th {\n",
       "        vertical-align: top;\n",
       "    }\n",
       "\n",
       "    .dataframe thead th {\n",
       "        text-align: right;\n",
       "    }\n",
       "</style>\n",
       "<table border=\"1\" class=\"dataframe\">\n",
       "  <thead>\n",
       "    <tr style=\"text-align: right;\">\n",
       "      <th></th>\n",
       "      <th>length</th>\n",
       "      <th>liveness</th>\n",
       "      <th>valance</th>\n",
       "    </tr>\n",
       "    <tr>\n",
       "      <th>year</th>\n",
       "      <th></th>\n",
       "      <th></th>\n",
       "      <th></th>\n",
       "    </tr>\n",
       "  </thead>\n",
       "  <tbody>\n",
       "    <tr>\n",
       "      <th>1975</th>\n",
       "      <td>354.000000</td>\n",
       "      <td>30.000000</td>\n",
       "      <td>22.000000</td>\n",
       "    </tr>\n",
       "    <tr>\n",
       "      <th>1995</th>\n",
       "      <td>259.000000</td>\n",
       "      <td>19.000000</td>\n",
       "      <td>47.000000</td>\n",
       "    </tr>\n",
       "    <tr>\n",
       "      <th>2004</th>\n",
       "      <td>223.000000</td>\n",
       "      <td>10.000000</td>\n",
       "      <td>24.000000</td>\n",
       "    </tr>\n",
       "    <tr>\n",
       "      <th>2008</th>\n",
       "      <td>242.000000</td>\n",
       "      <td>11.000000</td>\n",
       "      <td>72.000000</td>\n",
       "    </tr>\n",
       "    <tr>\n",
       "      <th>2012</th>\n",
       "      <td>207.666667</td>\n",
       "      <td>34.333333</td>\n",
       "      <td>50.666667</td>\n",
       "    </tr>\n",
       "    <tr>\n",
       "      <th>2013</th>\n",
       "      <td>256.750000</td>\n",
       "      <td>13.000000</td>\n",
       "      <td>41.750000</td>\n",
       "    </tr>\n",
       "    <tr>\n",
       "      <th>2014</th>\n",
       "      <td>246.833333</td>\n",
       "      <td>17.166667</td>\n",
       "      <td>33.000000</td>\n",
       "    </tr>\n",
       "    <tr>\n",
       "      <th>2015</th>\n",
       "      <td>216.307692</td>\n",
       "      <td>15.615385</td>\n",
       "      <td>53.615385</td>\n",
       "    </tr>\n",
       "    <tr>\n",
       "      <th>2016</th>\n",
       "      <td>216.687500</td>\n",
       "      <td>16.187500</td>\n",
       "      <td>50.312500</td>\n",
       "    </tr>\n",
       "    <tr>\n",
       "      <th>2017</th>\n",
       "      <td>203.833333</td>\n",
       "      <td>13.583333</td>\n",
       "      <td>52.833333</td>\n",
       "    </tr>\n",
       "    <tr>\n",
       "      <th>2018</th>\n",
       "      <td>213.300000</td>\n",
       "      <td>17.100000</td>\n",
       "      <td>43.600000</td>\n",
       "    </tr>\n",
       "    <tr>\n",
       "      <th>2019</th>\n",
       "      <td>199.125000</td>\n",
       "      <td>17.625000</td>\n",
       "      <td>59.312500</td>\n",
       "    </tr>\n",
       "    <tr>\n",
       "      <th>2020</th>\n",
       "      <td>188.333333</td>\n",
       "      <td>9.666667</td>\n",
       "      <td>50.333333</td>\n",
       "    </tr>\n",
       "    <tr>\n",
       "      <th>2021</th>\n",
       "      <td>167.333333</td>\n",
       "      <td>26.666667</td>\n",
       "      <td>69.000000</td>\n",
       "    </tr>\n",
       "  </tbody>\n",
       "</table>\n",
       "</div>"
      ],
      "text/plain": [
       "          length   liveness    valance\n",
       "year                                  \n",
       "1975  354.000000  30.000000  22.000000\n",
       "1995  259.000000  19.000000  47.000000\n",
       "2004  223.000000  10.000000  24.000000\n",
       "2008  242.000000  11.000000  72.000000\n",
       "2012  207.666667  34.333333  50.666667\n",
       "2013  256.750000  13.000000  41.750000\n",
       "2014  246.833333  17.166667  33.000000\n",
       "2015  216.307692  15.615385  53.615385\n",
       "2016  216.687500  16.187500  50.312500\n",
       "2017  203.833333  13.583333  52.833333\n",
       "2018  213.300000  17.100000  43.600000\n",
       "2019  199.125000  17.625000  59.312500\n",
       "2020  188.333333   9.666667  50.333333\n",
       "2021  167.333333  26.666667  69.000000"
      ]
     },
     "execution_count": 42,
     "metadata": {},
     "output_type": "execute_result"
    }
   ],
   "source": [
    "# creating another dataframe for that\n",
    "\n",
    "Piv_tab=pd.pivot_table(data=df, index=['year'], values=['liveness', 'valance', 'length'])\n",
    "Piv_tab"
   ]
  },
  {
   "cell_type": "markdown",
   "id": "31187c4f",
   "metadata": {},
   "source": [
    "### Apply function:-\n"
   ]
  },
  {
   "cell_type": "markdown",
   "id": "754d07cb",
   "metadata": {},
   "source": [
    "### Finding maximum of some columns:- "
   ]
  },
  {
   "cell_type": "code",
   "execution_count": 43,
   "id": "74c86624",
   "metadata": {},
   "outputs": [
    {
     "data": {
      "text/plain": [
       "energy      92\n",
       "liveness    79\n",
       "valance     93\n",
       "dtype: int64"
      ]
     },
     "execution_count": 43,
     "metadata": {},
     "output_type": "execute_result"
    }
   ],
   "source": [
    "df[['energy','liveness','valance']].apply(np.max)\n"
   ]
  },
  {
   "cell_type": "markdown",
   "id": "c78406ff",
   "metadata": {},
   "source": [
    "### Finding minimum of some columns:- "
   ]
  },
  {
   "cell_type": "code",
   "execution_count": 44,
   "id": "b6e7963d",
   "metadata": {},
   "outputs": [
    {
     "data": {
      "text/plain": [
       "energy      11\n",
       "liveness     3\n",
       "valance      6\n",
       "dtype: int64"
      ]
     },
     "execution_count": 44,
     "metadata": {},
     "output_type": "execute_result"
    }
   ],
   "source": [
    "df[['energy','liveness','valance']].apply(np.min)"
   ]
  },
  {
   "cell_type": "markdown",
   "id": "be02b03a",
   "metadata": {},
   "source": [
    "## Where function"
   ]
  },
  {
   "cell_type": "markdown",
   "id": "8d986e7f",
   "metadata": {},
   "source": [
    "### Replace the energy value with High where energy is greater than mean energy. "
   ]
  },
  {
   "cell_type": "code",
   "execution_count": 45,
   "id": "3b35bd59",
   "metadata": {},
   "outputs": [
    {
     "data": {
      "text/plain": [
       "0     High\n",
       "1     High\n",
       "2     High\n",
       "3       41\n",
       "4       45\n",
       "      ... \n",
       "95      61\n",
       "96    High\n",
       "97    High\n",
       "98    High\n",
       "99    High\n",
       "Name: energy, Length: 100, dtype: object"
      ]
     },
     "execution_count": 45,
     "metadata": {},
     "output_type": "execute_result"
    }
   ],
   "source": [
    "r3=df['energy'].where(df['energy']<df['energy'].mean(),'High')\n",
    "r3"
   ]
  },
  {
   "cell_type": "markdown",
   "id": "a24631be",
   "metadata": {},
   "source": [
    "## Lambda function:- "
   ]
  },
  {
   "cell_type": "markdown",
   "id": "f4e515e5",
   "metadata": {},
   "source": [
    "### Apply on Single column:-"
   ]
  },
  {
   "cell_type": "code",
   "execution_count": 47,
   "id": "ea2f74f6",
   "metadata": {},
   "outputs": [
    {
     "name": "stdout",
     "output_type": "stream",
     "text": [
      "popularity    91\n",
      "dtype: int64\n",
      "popularity    53\n",
      "dtype: int64\n"
     ]
    }
   ],
   "source": [
    "max_pop=df[['popularity']].apply(lambda x:x.max())\n",
    "min_pop=df[['popularity']].apply(lambda x:x.min())\n",
    "print(max_pop)\n",
    "print(min_pop)"
   ]
  },
  {
   "cell_type": "code",
   "execution_count": 48,
   "id": "7b9088e1",
   "metadata": {},
   "outputs": [
    {
     "name": "stdout",
     "output_type": "stream",
     "text": [
      "liveness    79\n",
      "dtype: int64\n"
     ]
    }
   ],
   "source": [
    "max_live=df[['liveness']].apply(lambda x:x.max())\n",
    "print(max_live)"
   ]
  },
  {
   "cell_type": "markdown",
   "id": "a6541793",
   "metadata": {},
   "source": [
    "### Find the diff b/w the max and min value of energy and liveness separately using apply function utilising the concept of lambda. "
   ]
  },
  {
   "cell_type": "code",
   "execution_count": 50,
   "id": "b07ae7be",
   "metadata": {},
   "outputs": [
    {
     "name": "stdout",
     "output_type": "stream",
     "text": [
      "<class 'pandas.core.series.Series'>\n",
      "energy      81\n",
      "liveness    76\n",
      "dtype: int64\n"
     ]
    }
   ],
   "source": [
    "r5=df[['energy','liveness']].apply(lambda x:x.max()-x.min())\n",
    "print(type(r5))\n",
    "print(r5)"
   ]
  },
  {
   "cell_type": "markdown",
   "id": "d9ef7ec7",
   "metadata": {},
   "source": [
    "## Pandas Merge:-"
   ]
  },
  {
   "cell_type": "markdown",
   "id": "789b1f39",
   "metadata": {},
   "source": [
    "### Append function of two Dataframe:- "
   ]
  },
  {
   "cell_type": "markdown",
   "id": "0288c9a9",
   "metadata": {},
   "source": [
    "#### Step 1:- Splitting Data based on rows."
   ]
  },
  {
   "cell_type": "code",
   "execution_count": 57,
   "id": "1c6a10c6",
   "metadata": {},
   "outputs": [],
   "source": [
    "# creating top 5 rows as a Dataframe \n",
    "\n",
    "top_5=df.iloc[:5,:]\n",
    "\n",
    "# creating next 5 rows as a Dataframe\n",
    "\n",
    "next_5=df.iloc[5:11,:]"
   ]
  },
  {
   "cell_type": "code",
   "execution_count": 53,
   "id": "83f9ba1f",
   "metadata": {},
   "outputs": [
    {
     "data": {
      "text/html": [
       "<div>\n",
       "<style scoped>\n",
       "    .dataframe tbody tr th:only-of-type {\n",
       "        vertical-align: middle;\n",
       "    }\n",
       "\n",
       "    .dataframe tbody tr th {\n",
       "        vertical-align: top;\n",
       "    }\n",
       "\n",
       "    .dataframe thead th {\n",
       "        text-align: right;\n",
       "    }\n",
       "</style>\n",
       "<table border=\"1\" class=\"dataframe\">\n",
       "  <thead>\n",
       "    <tr style=\"text-align: right;\">\n",
       "      <th></th>\n",
       "      <th>title</th>\n",
       "      <th>artist</th>\n",
       "      <th>top genre</th>\n",
       "      <th>year</th>\n",
       "      <th>beats.per.minute</th>\n",
       "      <th>energy</th>\n",
       "      <th>danceability</th>\n",
       "      <th>loudness.dB</th>\n",
       "      <th>liveness</th>\n",
       "      <th>valance</th>\n",
       "      <th>length</th>\n",
       "      <th>acousticness</th>\n",
       "      <th>speechiness</th>\n",
       "      <th>popularity</th>\n",
       "    </tr>\n",
       "  </thead>\n",
       "  <tbody>\n",
       "    <tr>\n",
       "      <th>2</th>\n",
       "      <td>Mood (feat. iann dior)</td>\n",
       "      <td>24kGoldn</td>\n",
       "      <td>cali rap</td>\n",
       "      <td>2021</td>\n",
       "      <td>91</td>\n",
       "      <td>72</td>\n",
       "      <td>70</td>\n",
       "      <td>-4</td>\n",
       "      <td>32</td>\n",
       "      <td>73</td>\n",
       "      <td>141</td>\n",
       "      <td>17</td>\n",
       "      <td>4</td>\n",
       "      <td>88</td>\n",
       "    </tr>\n",
       "    <tr>\n",
       "      <th>3</th>\n",
       "      <td>Someone You Loved</td>\n",
       "      <td>Lewis Capaldi</td>\n",
       "      <td>pop</td>\n",
       "      <td>2019</td>\n",
       "      <td>110</td>\n",
       "      <td>41</td>\n",
       "      <td>50</td>\n",
       "      <td>-6</td>\n",
       "      <td>11</td>\n",
       "      <td>45</td>\n",
       "      <td>182</td>\n",
       "      <td>75</td>\n",
       "      <td>3</td>\n",
       "      <td>86</td>\n",
       "    </tr>\n",
       "    <tr>\n",
       "      <th>4</th>\n",
       "      <td>Perfect</td>\n",
       "      <td>Ed Sheeran</td>\n",
       "      <td>pop</td>\n",
       "      <td>2017</td>\n",
       "      <td>95</td>\n",
       "      <td>45</td>\n",
       "      <td>60</td>\n",
       "      <td>-6</td>\n",
       "      <td>11</td>\n",
       "      <td>17</td>\n",
       "      <td>263</td>\n",
       "      <td>16</td>\n",
       "      <td>2</td>\n",
       "      <td>86</td>\n",
       "    </tr>\n",
       "  </tbody>\n",
       "</table>\n",
       "</div>"
      ],
      "text/plain": [
       "                    title         artist top genre  year  beats.per.minute  \\\n",
       "2  Mood (feat. iann dior)       24kGoldn  cali rap  2021                91   \n",
       "3       Someone You Loved  Lewis Capaldi       pop  2019               110   \n",
       "4                 Perfect     Ed Sheeran       pop  2017                95   \n",
       "\n",
       "   energy  danceability  loudness.dB  liveness  valance  length  acousticness  \\\n",
       "2      72            70           -4        32       73     141            17   \n",
       "3      41            50           -6        11       45     182            75   \n",
       "4      45            60           -6        11       17     263            16   \n",
       "\n",
       "   speechiness  popularity  \n",
       "2            4          88  \n",
       "3            3          86  \n",
       "4            2          86  "
      ]
     },
     "execution_count": 53,
     "metadata": {},
     "output_type": "execute_result"
    }
   ],
   "source": [
    "top_5.tail(3)"
   ]
  },
  {
   "cell_type": "markdown",
   "id": "dc64eaa6",
   "metadata": {},
   "source": [
    "####  Step 2:- Shape of Dataset is:-"
   ]
  },
  {
   "cell_type": "code",
   "execution_count": 58,
   "id": "5bc6d693",
   "metadata": {},
   "outputs": [
    {
     "data": {
      "text/plain": [
       "(6, 14)"
      ]
     },
     "execution_count": 58,
     "metadata": {},
     "output_type": "execute_result"
    }
   ],
   "source": [
    "top_5.shape\n",
    "next_5.shape"
   ]
  },
  {
   "cell_type": "markdown",
   "id": "07ba3885",
   "metadata": {},
   "source": [
    "#### Step 3:- Appending two dataframes:-"
   ]
  },
  {
   "cell_type": "code",
   "execution_count": 59,
   "id": "bf339004",
   "metadata": {},
   "outputs": [
    {
     "name": "stderr",
     "output_type": "stream",
     "text": [
      "C:\\Users\\Divyanshu\\AppData\\Local\\Temp\\ipykernel_628\\2279409387.py:1: FutureWarning: The frame.append method is deprecated and will be removed from pandas in a future version. Use pandas.concat instead.\n",
      "  joint_df=top_5.append(next_5)\n"
     ]
    },
    {
     "data": {
      "text/html": [
       "<div>\n",
       "<style scoped>\n",
       "    .dataframe tbody tr th:only-of-type {\n",
       "        vertical-align: middle;\n",
       "    }\n",
       "\n",
       "    .dataframe tbody tr th {\n",
       "        vertical-align: top;\n",
       "    }\n",
       "\n",
       "    .dataframe thead th {\n",
       "        text-align: right;\n",
       "    }\n",
       "</style>\n",
       "<table border=\"1\" class=\"dataframe\">\n",
       "  <thead>\n",
       "    <tr style=\"text-align: right;\">\n",
       "      <th></th>\n",
       "      <th>title</th>\n",
       "      <th>artist</th>\n",
       "      <th>top genre</th>\n",
       "      <th>year</th>\n",
       "      <th>beats.per.minute</th>\n",
       "      <th>energy</th>\n",
       "      <th>danceability</th>\n",
       "      <th>loudness.dB</th>\n",
       "      <th>liveness</th>\n",
       "      <th>valance</th>\n",
       "      <th>length</th>\n",
       "      <th>acousticness</th>\n",
       "      <th>speechiness</th>\n",
       "      <th>popularity</th>\n",
       "    </tr>\n",
       "  </thead>\n",
       "  <tbody>\n",
       "    <tr>\n",
       "      <th>0</th>\n",
       "      <td>Blinding Lights</td>\n",
       "      <td>The Weeknd</td>\n",
       "      <td>canadian contemporary r&amp;b</td>\n",
       "      <td>2020</td>\n",
       "      <td>171</td>\n",
       "      <td>73</td>\n",
       "      <td>51</td>\n",
       "      <td>-6</td>\n",
       "      <td>9</td>\n",
       "      <td>33</td>\n",
       "      <td>200</td>\n",
       "      <td>0</td>\n",
       "      <td>6</td>\n",
       "      <td>91</td>\n",
       "    </tr>\n",
       "    <tr>\n",
       "      <th>1</th>\n",
       "      <td>Watermelon Sugar</td>\n",
       "      <td>Harry Styles</td>\n",
       "      <td>pop</td>\n",
       "      <td>2019</td>\n",
       "      <td>95</td>\n",
       "      <td>82</td>\n",
       "      <td>55</td>\n",
       "      <td>-4</td>\n",
       "      <td>34</td>\n",
       "      <td>56</td>\n",
       "      <td>174</td>\n",
       "      <td>12</td>\n",
       "      <td>5</td>\n",
       "      <td>88</td>\n",
       "    </tr>\n",
       "    <tr>\n",
       "      <th>2</th>\n",
       "      <td>Mood (feat. iann dior)</td>\n",
       "      <td>24kGoldn</td>\n",
       "      <td>cali rap</td>\n",
       "      <td>2021</td>\n",
       "      <td>91</td>\n",
       "      <td>72</td>\n",
       "      <td>70</td>\n",
       "      <td>-4</td>\n",
       "      <td>32</td>\n",
       "      <td>73</td>\n",
       "      <td>141</td>\n",
       "      <td>17</td>\n",
       "      <td>4</td>\n",
       "      <td>88</td>\n",
       "    </tr>\n",
       "    <tr>\n",
       "      <th>3</th>\n",
       "      <td>Someone You Loved</td>\n",
       "      <td>Lewis Capaldi</td>\n",
       "      <td>pop</td>\n",
       "      <td>2019</td>\n",
       "      <td>110</td>\n",
       "      <td>41</td>\n",
       "      <td>50</td>\n",
       "      <td>-6</td>\n",
       "      <td>11</td>\n",
       "      <td>45</td>\n",
       "      <td>182</td>\n",
       "      <td>75</td>\n",
       "      <td>3</td>\n",
       "      <td>86</td>\n",
       "    </tr>\n",
       "    <tr>\n",
       "      <th>4</th>\n",
       "      <td>Perfect</td>\n",
       "      <td>Ed Sheeran</td>\n",
       "      <td>pop</td>\n",
       "      <td>2017</td>\n",
       "      <td>95</td>\n",
       "      <td>45</td>\n",
       "      <td>60</td>\n",
       "      <td>-6</td>\n",
       "      <td>11</td>\n",
       "      <td>17</td>\n",
       "      <td>263</td>\n",
       "      <td>16</td>\n",
       "      <td>2</td>\n",
       "      <td>86</td>\n",
       "    </tr>\n",
       "    <tr>\n",
       "      <th>5</th>\n",
       "      <td>Believer</td>\n",
       "      <td>Imagine Dragons</td>\n",
       "      <td>modern rock</td>\n",
       "      <td>2017</td>\n",
       "      <td>125</td>\n",
       "      <td>78</td>\n",
       "      <td>78</td>\n",
       "      <td>-4</td>\n",
       "      <td>8</td>\n",
       "      <td>67</td>\n",
       "      <td>204</td>\n",
       "      <td>6</td>\n",
       "      <td>13</td>\n",
       "      <td>86</td>\n",
       "    </tr>\n",
       "    <tr>\n",
       "      <th>6</th>\n",
       "      <td>lovely (with Khalid)</td>\n",
       "      <td>Billie Eilish</td>\n",
       "      <td>electropop</td>\n",
       "      <td>2018</td>\n",
       "      <td>115</td>\n",
       "      <td>30</td>\n",
       "      <td>35</td>\n",
       "      <td>-10</td>\n",
       "      <td>10</td>\n",
       "      <td>12</td>\n",
       "      <td>200</td>\n",
       "      <td>93</td>\n",
       "      <td>3</td>\n",
       "      <td>86</td>\n",
       "    </tr>\n",
       "    <tr>\n",
       "      <th>7</th>\n",
       "      <td>Circles</td>\n",
       "      <td>Post Malone</td>\n",
       "      <td>dfw rap</td>\n",
       "      <td>2019</td>\n",
       "      <td>120</td>\n",
       "      <td>76</td>\n",
       "      <td>70</td>\n",
       "      <td>-3</td>\n",
       "      <td>9</td>\n",
       "      <td>55</td>\n",
       "      <td>215</td>\n",
       "      <td>19</td>\n",
       "      <td>4</td>\n",
       "      <td>86</td>\n",
       "    </tr>\n",
       "    <tr>\n",
       "      <th>8</th>\n",
       "      <td>Shape of You</td>\n",
       "      <td>Ed Sheeran</td>\n",
       "      <td>pop</td>\n",
       "      <td>2017</td>\n",
       "      <td>96</td>\n",
       "      <td>65</td>\n",
       "      <td>83</td>\n",
       "      <td>-3</td>\n",
       "      <td>9</td>\n",
       "      <td>93</td>\n",
       "      <td>234</td>\n",
       "      <td>58</td>\n",
       "      <td>8</td>\n",
       "      <td>85</td>\n",
       "    </tr>\n",
       "    <tr>\n",
       "      <th>9</th>\n",
       "      <td>Memories</td>\n",
       "      <td>Maroon 5</td>\n",
       "      <td>pop</td>\n",
       "      <td>2021</td>\n",
       "      <td>91</td>\n",
       "      <td>33</td>\n",
       "      <td>78</td>\n",
       "      <td>-7</td>\n",
       "      <td>8</td>\n",
       "      <td>60</td>\n",
       "      <td>189</td>\n",
       "      <td>84</td>\n",
       "      <td>6</td>\n",
       "      <td>85</td>\n",
       "    </tr>\n",
       "    <tr>\n",
       "      <th>10</th>\n",
       "      <td>Closer</td>\n",
       "      <td>The Chainsmokers</td>\n",
       "      <td>dance pop</td>\n",
       "      <td>2016</td>\n",
       "      <td>95</td>\n",
       "      <td>52</td>\n",
       "      <td>75</td>\n",
       "      <td>-6</td>\n",
       "      <td>11</td>\n",
       "      <td>66</td>\n",
       "      <td>245</td>\n",
       "      <td>41</td>\n",
       "      <td>3</td>\n",
       "      <td>84</td>\n",
       "    </tr>\n",
       "  </tbody>\n",
       "</table>\n",
       "</div>"
      ],
      "text/plain": [
       "                     title            artist                  top genre  year  \\\n",
       "0          Blinding Lights        The Weeknd  canadian contemporary r&b  2020   \n",
       "1         Watermelon Sugar      Harry Styles                        pop  2019   \n",
       "2   Mood (feat. iann dior)          24kGoldn                   cali rap  2021   \n",
       "3        Someone You Loved     Lewis Capaldi                        pop  2019   \n",
       "4                  Perfect        Ed Sheeran                        pop  2017   \n",
       "5                 Believer   Imagine Dragons                modern rock  2017   \n",
       "6     lovely (with Khalid)     Billie Eilish                 electropop  2018   \n",
       "7                  Circles       Post Malone                    dfw rap  2019   \n",
       "8             Shape of You        Ed Sheeran                        pop  2017   \n",
       "9                 Memories          Maroon 5                        pop  2021   \n",
       "10                  Closer  The Chainsmokers                  dance pop  2016   \n",
       "\n",
       "    beats.per.minute  energy  danceability  loudness.dB  liveness  valance  \\\n",
       "0                171      73            51           -6         9       33   \n",
       "1                 95      82            55           -4        34       56   \n",
       "2                 91      72            70           -4        32       73   \n",
       "3                110      41            50           -6        11       45   \n",
       "4                 95      45            60           -6        11       17   \n",
       "5                125      78            78           -4         8       67   \n",
       "6                115      30            35          -10        10       12   \n",
       "7                120      76            70           -3         9       55   \n",
       "8                 96      65            83           -3         9       93   \n",
       "9                 91      33            78           -7         8       60   \n",
       "10                95      52            75           -6        11       66   \n",
       "\n",
       "    length  acousticness  speechiness  popularity  \n",
       "0      200             0            6          91  \n",
       "1      174            12            5          88  \n",
       "2      141            17            4          88  \n",
       "3      182            75            3          86  \n",
       "4      263            16            2          86  \n",
       "5      204             6           13          86  \n",
       "6      200            93            3          86  \n",
       "7      215            19            4          86  \n",
       "8      234            58            8          85  \n",
       "9      189            84            6          85  \n",
       "10     245            41            3          84  "
      ]
     },
     "execution_count": 59,
     "metadata": {},
     "output_type": "execute_result"
    }
   ],
   "source": [
    "joint_df=top_5.append(next_5)\n",
    "joint_df"
   ]
  },
  {
   "cell_type": "markdown",
   "id": "c5a0ab71",
   "metadata": {},
   "source": [
    "### Concat:- Used for combining two dataframes across rows or columns. "
   ]
  },
  {
   "cell_type": "code",
   "execution_count": 65,
   "id": "bd6f8ced",
   "metadata": {},
   "outputs": [
    {
     "data": {
      "text/plain": [
       "(11, 14)"
      ]
     },
     "execution_count": 65,
     "metadata": {},
     "output_type": "execute_result"
    }
   ],
   "source": [
    "r_concat_ax0=pd.concat([top_5,next_5])   #axis=0,concatenate along rows\n",
    "r_concat_ax0.shape\n"
   ]
  },
  {
   "cell_type": "code",
   "execution_count": 66,
   "id": "e15082f2",
   "metadata": {},
   "outputs": [
    {
     "data": {
      "text/plain": [
       "(11, 28)"
      ]
     },
     "execution_count": 66,
     "metadata": {},
     "output_type": "execute_result"
    }
   ],
   "source": [
    "r_concat_ax1=pd.concat([top_5,next_5],axis=1)   #axis=0,concatenate along columns\n",
    "r_concat_ax1.shape"
   ]
  },
  {
   "cell_type": "markdown",
   "id": "8a278956",
   "metadata": {},
   "source": [
    "### Join:- Used to join columns of another dataframe. "
   ]
  },
  {
   "cell_type": "code",
   "execution_count": 69,
   "id": "92311762",
   "metadata": {},
   "outputs": [
    {
     "name": "stdout",
     "output_type": "stream",
     "text": [
      "(100, 5)\n",
      "(100, 5)\n"
     ]
    }
   ],
   "source": [
    "# splitting based on columns\n",
    "\n",
    "df_colfirst5=df.iloc[:,:5]\n",
    "df_colnext5=df.iloc[:,5:10]\n",
    "print(df_colfirst5.shape)\n",
    "print(df_colnext5.shape)"
   ]
  },
  {
   "cell_type": "code",
   "execution_count": 71,
   "id": "bea06516",
   "metadata": {},
   "outputs": [
    {
     "data": {
      "text/plain": [
       "(100, 10)"
      ]
     },
     "execution_count": 71,
     "metadata": {},
     "output_type": "execute_result"
    }
   ],
   "source": [
    "r_join=df_colfirst5.join(df_colnext5)\n",
    "r_join.shape"
   ]
  },
  {
   "cell_type": "markdown",
   "id": "decf207c",
   "metadata": {},
   "source": [
    "## Statistical functions:- "
   ]
  },
  {
   "cell_type": "markdown",
   "id": "d4187339",
   "metadata": {},
   "source": [
    "### 1). Sum():-"
   ]
  },
  {
   "cell_type": "markdown",
   "id": "8340880a",
   "metadata": {},
   "source": [
    "#### Find Sum of Popularity for pop genre. "
   ]
  },
  {
   "cell_type": "code",
   "execution_count": 73,
   "id": "662e93d4",
   "metadata": {},
   "outputs": [
    {
     "name": "stdout",
     "output_type": "stream",
     "text": [
      "(11, 14)\n",
      "899\n"
     ]
    }
   ],
   "source": [
    "r6=df[df['top genre']=='pop']\n",
    "print(r6.shape)\n",
    "print(r6['popularity'].sum())"
   ]
  },
  {
   "cell_type": "markdown",
   "id": "1864c79b",
   "metadata": {},
   "source": [
    "#### Find yearwise sum of liveness and energy. "
   ]
  },
  {
   "cell_type": "code",
   "execution_count": 74,
   "id": "e3cd3c8c",
   "metadata": {},
   "outputs": [
    {
     "name": "stderr",
     "output_type": "stream",
     "text": [
      "C:\\Users\\Divyanshu\\AppData\\Local\\Temp\\ipykernel_628\\475691907.py:1: FutureWarning: Indexing with multiple keys (implicitly converted to a tuple of keys) will be deprecated, use a list instead.\n",
      "  r7=df.groupby('year')['liveness','energy'].sum()\n"
     ]
    },
    {
     "data": {
      "text/html": [
       "<div>\n",
       "<style scoped>\n",
       "    .dataframe tbody tr th:only-of-type {\n",
       "        vertical-align: middle;\n",
       "    }\n",
       "\n",
       "    .dataframe tbody tr th {\n",
       "        vertical-align: top;\n",
       "    }\n",
       "\n",
       "    .dataframe thead th {\n",
       "        text-align: right;\n",
       "    }\n",
       "</style>\n",
       "<table border=\"1\" class=\"dataframe\">\n",
       "  <thead>\n",
       "    <tr style=\"text-align: right;\">\n",
       "      <th></th>\n",
       "      <th>liveness</th>\n",
       "      <th>energy</th>\n",
       "    </tr>\n",
       "    <tr>\n",
       "      <th>year</th>\n",
       "      <th></th>\n",
       "      <th></th>\n",
       "    </tr>\n",
       "  </thead>\n",
       "  <tbody>\n",
       "    <tr>\n",
       "      <th>1975</th>\n",
       "      <td>30</td>\n",
       "      <td>40</td>\n",
       "    </tr>\n",
       "    <tr>\n",
       "      <th>1995</th>\n",
       "      <td>19</td>\n",
       "      <td>90</td>\n",
       "    </tr>\n",
       "    <tr>\n",
       "      <th>2004</th>\n",
       "      <td>10</td>\n",
       "      <td>91</td>\n",
       "    </tr>\n",
       "    <tr>\n",
       "      <th>2008</th>\n",
       "      <td>11</td>\n",
       "      <td>46</td>\n",
       "    </tr>\n",
       "    <tr>\n",
       "      <th>2012</th>\n",
       "      <td>103</td>\n",
       "      <td>241</td>\n",
       "    </tr>\n",
       "    <tr>\n",
       "      <th>2013</th>\n",
       "      <td>52</td>\n",
       "      <td>229</td>\n",
       "    </tr>\n",
       "    <tr>\n",
       "      <th>2014</th>\n",
       "      <td>103</td>\n",
       "      <td>338</td>\n",
       "    </tr>\n",
       "    <tr>\n",
       "      <th>2015</th>\n",
       "      <td>203</td>\n",
       "      <td>846</td>\n",
       "    </tr>\n",
       "    <tr>\n",
       "      <th>2016</th>\n",
       "      <td>259</td>\n",
       "      <td>1019</td>\n",
       "    </tr>\n",
       "    <tr>\n",
       "      <th>2017</th>\n",
       "      <td>163</td>\n",
       "      <td>776</td>\n",
       "    </tr>\n",
       "    <tr>\n",
       "      <th>2018</th>\n",
       "      <td>342</td>\n",
       "      <td>1208</td>\n",
       "    </tr>\n",
       "    <tr>\n",
       "      <th>2019</th>\n",
       "      <td>282</td>\n",
       "      <td>935</td>\n",
       "    </tr>\n",
       "    <tr>\n",
       "      <th>2020</th>\n",
       "      <td>29</td>\n",
       "      <td>221</td>\n",
       "    </tr>\n",
       "    <tr>\n",
       "      <th>2021</th>\n",
       "      <td>80</td>\n",
       "      <td>188</td>\n",
       "    </tr>\n",
       "  </tbody>\n",
       "</table>\n",
       "</div>"
      ],
      "text/plain": [
       "      liveness  energy\n",
       "year                  \n",
       "1975        30      40\n",
       "1995        19      90\n",
       "2004        10      91\n",
       "2008        11      46\n",
       "2012       103     241\n",
       "2013        52     229\n",
       "2014       103     338\n",
       "2015       203     846\n",
       "2016       259    1019\n",
       "2017       163     776\n",
       "2018       342    1208\n",
       "2019       282     935\n",
       "2020        29     221\n",
       "2021        80     188"
      ]
     },
     "execution_count": 74,
     "metadata": {},
     "output_type": "execute_result"
    }
   ],
   "source": [
    "r7=df.groupby('year')['liveness','energy'].sum()\n",
    "r7"
   ]
  },
  {
   "cell_type": "markdown",
   "id": "083b6bba",
   "metadata": {},
   "source": [
    "### 2). Min():- "
   ]
  },
  {
   "cell_type": "markdown",
   "id": "7e740ac8",
   "metadata": {},
   "source": [
    "#### Find min loudness for the artist Post Malone. "
   ]
  },
  {
   "cell_type": "code",
   "execution_count": 75,
   "id": "cd7692e6",
   "metadata": {},
   "outputs": [
    {
     "data": {
      "text/plain": [
       "(7, 14)"
      ]
     },
     "execution_count": 75,
     "metadata": {},
     "output_type": "execute_result"
    }
   ],
   "source": [
    "r8=df[df['artist']=='Post Malone']\n",
    "r8.shape"
   ]
  },
  {
   "cell_type": "code",
   "execution_count": 77,
   "id": "e40f91c9",
   "metadata": {},
   "outputs": [
    {
     "name": "stdout",
     "output_type": "stream",
     "text": [
      "-8\n"
     ]
    }
   ],
   "source": [
    "print(r8['loudness.dB'].min())"
   ]
  },
  {
   "cell_type": "markdown",
   "id": "2525565f",
   "metadata": {},
   "source": [
    "### 3). Max:-"
   ]
  },
  {
   "cell_type": "markdown",
   "id": "1b9b24f3",
   "metadata": {},
   "source": [
    "#### Find max acoustiness for the artist Ed Sheeran"
   ]
  },
  {
   "cell_type": "code",
   "execution_count": 78,
   "id": "c25099f7",
   "metadata": {},
   "outputs": [
    {
     "data": {
      "text/plain": [
       "(7, 14)"
      ]
     },
     "execution_count": 78,
     "metadata": {},
     "output_type": "execute_result"
    }
   ],
   "source": [
    "r9=df[df['artist']=='Ed Sheeran']\n",
    "r8.shape"
   ]
  },
  {
   "cell_type": "code",
   "execution_count": 81,
   "id": "bd626a0f",
   "metadata": {},
   "outputs": [
    {
     "name": "stdout",
     "output_type": "stream",
     "text": [
      "56\n"
     ]
    }
   ],
   "source": [
    "print(r8['acousticness'].max())"
   ]
  },
  {
   "cell_type": "markdown",
   "id": "774fca77",
   "metadata": {},
   "source": [
    "### 4). Var:-\n"
   ]
  },
  {
   "cell_type": "markdown",
   "id": "592a78be",
   "metadata": {},
   "source": [
    "#### Find Variance of energy and liveness. "
   ]
  },
  {
   "cell_type": "code",
   "execution_count": 82,
   "id": "f2dccfdd",
   "metadata": {},
   "outputs": [
    {
     "data": {
      "text/plain": [
       "energy      271.977374\n",
       "liveness    168.283232\n",
       "dtype: float64"
      ]
     },
     "execution_count": 82,
     "metadata": {},
     "output_type": "execute_result"
    }
   ],
   "source": [
    "r9=df[['energy','liveness']].var()\n",
    "r9"
   ]
  },
  {
   "cell_type": "markdown",
   "id": "30061223",
   "metadata": {},
   "source": [
    "### Aggregate functions:- "
   ]
  },
  {
   "cell_type": "markdown",
   "id": "4e9d59a1",
   "metadata": {},
   "source": [
    "#### Finding sum, mean, min and max of energy and popularity based on year. "
   ]
  },
  {
   "cell_type": "code",
   "execution_count": 84,
   "id": "d39e7830",
   "metadata": {},
   "outputs": [
    {
     "data": {
      "text/html": [
       "<div>\n",
       "<style scoped>\n",
       "    .dataframe tbody tr th:only-of-type {\n",
       "        vertical-align: middle;\n",
       "    }\n",
       "\n",
       "    .dataframe tbody tr th {\n",
       "        vertical-align: top;\n",
       "    }\n",
       "\n",
       "    .dataframe thead tr th {\n",
       "        text-align: left;\n",
       "    }\n",
       "\n",
       "    .dataframe thead tr:last-of-type th {\n",
       "        text-align: right;\n",
       "    }\n",
       "</style>\n",
       "<table border=\"1\" class=\"dataframe\">\n",
       "  <thead>\n",
       "    <tr>\n",
       "      <th></th>\n",
       "      <th colspan=\"4\" halign=\"left\">energy</th>\n",
       "      <th colspan=\"4\" halign=\"left\">popularity</th>\n",
       "    </tr>\n",
       "    <tr>\n",
       "      <th></th>\n",
       "      <th>mean</th>\n",
       "      <th>max</th>\n",
       "      <th>sum</th>\n",
       "      <th>min</th>\n",
       "      <th>mean</th>\n",
       "      <th>max</th>\n",
       "      <th>sum</th>\n",
       "      <th>min</th>\n",
       "    </tr>\n",
       "    <tr>\n",
       "      <th>year</th>\n",
       "      <th></th>\n",
       "      <th></th>\n",
       "      <th></th>\n",
       "      <th></th>\n",
       "      <th></th>\n",
       "      <th></th>\n",
       "      <th></th>\n",
       "      <th></th>\n",
       "    </tr>\n",
       "  </thead>\n",
       "  <tbody>\n",
       "    <tr>\n",
       "      <th>1975</th>\n",
       "      <td>40.000000</td>\n",
       "      <td>40</td>\n",
       "      <td>40</td>\n",
       "      <td>40</td>\n",
       "      <td>81.000000</td>\n",
       "      <td>81</td>\n",
       "      <td>81</td>\n",
       "      <td>81</td>\n",
       "    </tr>\n",
       "    <tr>\n",
       "      <th>1995</th>\n",
       "      <td>90.000000</td>\n",
       "      <td>90</td>\n",
       "      <td>90</td>\n",
       "      <td>90</td>\n",
       "      <td>77.000000</td>\n",
       "      <td>77</td>\n",
       "      <td>77</td>\n",
       "      <td>77</td>\n",
       "    </tr>\n",
       "    <tr>\n",
       "      <th>2004</th>\n",
       "      <td>91.000000</td>\n",
       "      <td>91</td>\n",
       "      <td>91</td>\n",
       "      <td>91</td>\n",
       "      <td>81.000000</td>\n",
       "      <td>81</td>\n",
       "      <td>81</td>\n",
       "      <td>81</td>\n",
       "    </tr>\n",
       "    <tr>\n",
       "      <th>2008</th>\n",
       "      <td>46.000000</td>\n",
       "      <td>46</td>\n",
       "      <td>46</td>\n",
       "      <td>46</td>\n",
       "      <td>80.000000</td>\n",
       "      <td>80</td>\n",
       "      <td>80</td>\n",
       "      <td>80</td>\n",
       "    </tr>\n",
       "    <tr>\n",
       "      <th>2012</th>\n",
       "      <td>80.333333</td>\n",
       "      <td>92</td>\n",
       "      <td>241</td>\n",
       "      <td>71</td>\n",
       "      <td>79.333333</td>\n",
       "      <td>82</td>\n",
       "      <td>238</td>\n",
       "      <td>76</td>\n",
       "    </tr>\n",
       "    <tr>\n",
       "      <th>2013</th>\n",
       "      <td>57.250000</td>\n",
       "      <td>78</td>\n",
       "      <td>229</td>\n",
       "      <td>26</td>\n",
       "      <td>80.500000</td>\n",
       "      <td>84</td>\n",
       "      <td>322</td>\n",
       "      <td>72</td>\n",
       "    </tr>\n",
       "    <tr>\n",
       "      <th>2014</th>\n",
       "      <td>56.333333</td>\n",
       "      <td>74</td>\n",
       "      <td>338</td>\n",
       "      <td>38</td>\n",
       "      <td>79.666667</td>\n",
       "      <td>83</td>\n",
       "      <td>478</td>\n",
       "      <td>70</td>\n",
       "    </tr>\n",
       "    <tr>\n",
       "      <th>2015</th>\n",
       "      <td>65.076923</td>\n",
       "      <td>81</td>\n",
       "      <td>846</td>\n",
       "      <td>38</td>\n",
       "      <td>77.384615</td>\n",
       "      <td>83</td>\n",
       "      <td>1006</td>\n",
       "      <td>66</td>\n",
       "    </tr>\n",
       "    <tr>\n",
       "      <th>2016</th>\n",
       "      <td>63.687500</td>\n",
       "      <td>87</td>\n",
       "      <td>1019</td>\n",
       "      <td>40</td>\n",
       "      <td>77.375000</td>\n",
       "      <td>84</td>\n",
       "      <td>1238</td>\n",
       "      <td>53</td>\n",
       "    </tr>\n",
       "    <tr>\n",
       "      <th>2017</th>\n",
       "      <td>64.666667</td>\n",
       "      <td>82</td>\n",
       "      <td>776</td>\n",
       "      <td>37</td>\n",
       "      <td>82.333333</td>\n",
       "      <td>86</td>\n",
       "      <td>988</td>\n",
       "      <td>79</td>\n",
       "    </tr>\n",
       "    <tr>\n",
       "      <th>2018</th>\n",
       "      <td>60.400000</td>\n",
       "      <td>86</td>\n",
       "      <td>1208</td>\n",
       "      <td>30</td>\n",
       "      <td>79.500000</td>\n",
       "      <td>86</td>\n",
       "      <td>1590</td>\n",
       "      <td>56</td>\n",
       "    </tr>\n",
       "    <tr>\n",
       "      <th>2019</th>\n",
       "      <td>58.437500</td>\n",
       "      <td>82</td>\n",
       "      <td>935</td>\n",
       "      <td>11</td>\n",
       "      <td>80.812500</td>\n",
       "      <td>88</td>\n",
       "      <td>1293</td>\n",
       "      <td>67</td>\n",
       "    </tr>\n",
       "    <tr>\n",
       "      <th>2020</th>\n",
       "      <td>73.666667</td>\n",
       "      <td>79</td>\n",
       "      <td>221</td>\n",
       "      <td>69</td>\n",
       "      <td>85.333333</td>\n",
       "      <td>91</td>\n",
       "      <td>256</td>\n",
       "      <td>81</td>\n",
       "    </tr>\n",
       "    <tr>\n",
       "      <th>2021</th>\n",
       "      <td>62.666667</td>\n",
       "      <td>83</td>\n",
       "      <td>188</td>\n",
       "      <td>33</td>\n",
       "      <td>79.666667</td>\n",
       "      <td>88</td>\n",
       "      <td>239</td>\n",
       "      <td>66</td>\n",
       "    </tr>\n",
       "  </tbody>\n",
       "</table>\n",
       "</div>"
      ],
      "text/plain": [
       "         energy               popularity              \n",
       "           mean max   sum min       mean max   sum min\n",
       "year                                                  \n",
       "1975  40.000000  40    40  40  81.000000  81    81  81\n",
       "1995  90.000000  90    90  90  77.000000  77    77  77\n",
       "2004  91.000000  91    91  91  81.000000  81    81  81\n",
       "2008  46.000000  46    46  46  80.000000  80    80  80\n",
       "2012  80.333333  92   241  71  79.333333  82   238  76\n",
       "2013  57.250000  78   229  26  80.500000  84   322  72\n",
       "2014  56.333333  74   338  38  79.666667  83   478  70\n",
       "2015  65.076923  81   846  38  77.384615  83  1006  66\n",
       "2016  63.687500  87  1019  40  77.375000  84  1238  53\n",
       "2017  64.666667  82   776  37  82.333333  86   988  79\n",
       "2018  60.400000  86  1208  30  79.500000  86  1590  56\n",
       "2019  58.437500  82   935  11  80.812500  88  1293  67\n",
       "2020  73.666667  79   221  69  85.333333  91   256  81\n",
       "2021  62.666667  83   188  33  79.666667  88   239  66"
      ]
     },
     "execution_count": 84,
     "metadata": {},
     "output_type": "execute_result"
    }
   ],
   "source": [
    "agg=df.groupby('year')[['energy','popularity']].agg({'sum', 'mean','min','max'})\n",
    "agg"
   ]
  },
  {
   "cell_type": "markdown",
   "id": "6aac093a",
   "metadata": {},
   "source": [
    "### Rank functions:-\n"
   ]
  },
  {
   "cell_type": "markdown",
   "id": "e8865f68",
   "metadata": {},
   "source": [
    "#### Rank top 10 genres wrt count based on their mean energy. "
   ]
  },
  {
   "cell_type": "code",
   "execution_count": 90,
   "id": "f8859cbd",
   "metadata": {},
   "outputs": [
    {
     "data": {
      "text/plain": [
       "dance pop                    28\n",
       "pop                          11\n",
       "dfw rap                       7\n",
       "modern rock                   6\n",
       "canadian pop                  6\n",
       "canadian contemporary r&b     4\n",
       "electropop                    4\n",
       "melodic rap                   3\n",
       "canadian hip hop              2\n",
       "rap                           2\n",
       "Name: top genre, dtype: int64"
      ]
     },
     "execution_count": 90,
     "metadata": {},
     "output_type": "execute_result"
    }
   ],
   "source": [
    "top10_gen=df['top genre'].value_counts()\n",
    "top10_gen=top10_gen.sort_values(ascending=False).head(10)\n",
    "top10_gen"
   ]
  },
  {
   "cell_type": "code",
   "execution_count": 94,
   "id": "ff6774d3",
   "metadata": {},
   "outputs": [
    {
     "data": {
      "text/plain": [
       "Index(['canadian contemporary r&b', 'canadian hip hop', 'canadian pop',\n",
       "       'dance pop', 'dfw rap', 'electropop', 'melodic rap', 'modern rock',\n",
       "       'pop', 'rap'],\n",
       "      dtype='object', name='top genre')"
      ]
     },
     "execution_count": 94,
     "metadata": {},
     "output_type": "execute_result"
    }
   ],
   "source": [
    "r9=df[df['top genre'].isin(top10_gen.index)].groupby('top genre').agg(MeanEnergy=('energy','mean'))\n",
    "r9.index"
   ]
  },
  {
   "cell_type": "code",
   "execution_count": 95,
   "id": "cce58b62",
   "metadata": {},
   "outputs": [
    {
     "data": {
      "text/html": [
       "<div>\n",
       "<style scoped>\n",
       "    .dataframe tbody tr th:only-of-type {\n",
       "        vertical-align: middle;\n",
       "    }\n",
       "\n",
       "    .dataframe tbody tr th {\n",
       "        vertical-align: top;\n",
       "    }\n",
       "\n",
       "    .dataframe thead th {\n",
       "        text-align: right;\n",
       "    }\n",
       "</style>\n",
       "<table border=\"1\" class=\"dataframe\">\n",
       "  <thead>\n",
       "    <tr style=\"text-align: right;\">\n",
       "      <th></th>\n",
       "      <th>MeanEnergy</th>\n",
       "    </tr>\n",
       "    <tr>\n",
       "      <th>top genre</th>\n",
       "      <th></th>\n",
       "    </tr>\n",
       "  </thead>\n",
       "  <tbody>\n",
       "    <tr>\n",
       "      <th>canadian contemporary r&amp;b</th>\n",
       "      <td>66.250000</td>\n",
       "    </tr>\n",
       "    <tr>\n",
       "      <th>canadian hip hop</th>\n",
       "      <td>53.000000</td>\n",
       "    </tr>\n",
       "    <tr>\n",
       "      <th>canadian pop</th>\n",
       "      <td>63.666667</td>\n",
       "    </tr>\n",
       "    <tr>\n",
       "      <th>dance pop</th>\n",
       "      <td>63.178571</td>\n",
       "    </tr>\n",
       "    <tr>\n",
       "      <th>dfw rap</th>\n",
       "      <td>60.571429</td>\n",
       "    </tr>\n",
       "    <tr>\n",
       "      <th>electropop</th>\n",
       "      <td>38.000000</td>\n",
       "    </tr>\n",
       "    <tr>\n",
       "      <th>melodic rap</th>\n",
       "      <td>68.666667</td>\n",
       "    </tr>\n",
       "    <tr>\n",
       "      <th>modern rock</th>\n",
       "      <td>68.833333</td>\n",
       "    </tr>\n",
       "    <tr>\n",
       "      <th>pop</th>\n",
       "      <td>55.090909</td>\n",
       "    </tr>\n",
       "    <tr>\n",
       "      <th>rap</th>\n",
       "      <td>73.000000</td>\n",
       "    </tr>\n",
       "  </tbody>\n",
       "</table>\n",
       "</div>"
      ],
      "text/plain": [
       "                           MeanEnergy\n",
       "top genre                            \n",
       "canadian contemporary r&b   66.250000\n",
       "canadian hip hop            53.000000\n",
       "canadian pop                63.666667\n",
       "dance pop                   63.178571\n",
       "dfw rap                     60.571429\n",
       "electropop                  38.000000\n",
       "melodic rap                 68.666667\n",
       "modern rock                 68.833333\n",
       "pop                         55.090909\n",
       "rap                         73.000000"
      ]
     },
     "execution_count": 95,
     "metadata": {},
     "output_type": "execute_result"
    }
   ],
   "source": [
    "r9"
   ]
  },
  {
   "cell_type": "markdown",
   "id": "1cb46ed7",
   "metadata": {},
   "source": [
    "## Pandas Plot:- "
   ]
  },
  {
   "cell_type": "markdown",
   "id": "68622a6c",
   "metadata": {},
   "source": [
    "### Plot artist wise mean of energy and liveness on a bar chart for the artist who have more than 3 or more songs. "
   ]
  },
  {
   "cell_type": "code",
   "execution_count": 96,
   "id": "b696e6d4",
   "metadata": {},
   "outputs": [
    {
     "data": {
      "text/plain": [
       "Post Malone         7\n",
       "Ed Sheeran          5\n",
       "The Weeknd          4\n",
       "Imagine Dragons     4\n",
       "Shawn Mendes        3\n",
       "Billie Eilish       3\n",
       "Maroon 5            3\n",
       "The Chainsmokers    3\n",
       "Justin Bieber       3\n",
       "Name: artist, dtype: int64"
      ]
     },
     "execution_count": 96,
     "metadata": {},
     "output_type": "execute_result"
    }
   ],
   "source": [
    "r1=df['artist'].value_counts()\n",
    "df_more3=r1[r1>=3]\n",
    "df_more3"
   ]
  },
  {
   "cell_type": "code",
   "execution_count": 97,
   "id": "ad9f8bce",
   "metadata": {},
   "outputs": [
    {
     "name": "stdout",
     "output_type": "stream",
     "text": [
      "<class 'pandas.core.series.Series'>\n"
     ]
    }
   ],
   "source": [
    "print(type(df_more3))"
   ]
  },
  {
   "cell_type": "code",
   "execution_count": 101,
   "id": "f92a18e3",
   "metadata": {},
   "outputs": [
    {
     "data": {
      "text/plain": [
       "Index(['Post Malone', 'Ed Sheeran', 'The Weeknd', 'Imagine Dragons',\n",
       "       'Shawn Mendes', 'Billie Eilish', 'Maroon 5', 'The Chainsmokers',\n",
       "       'Justin Bieber'],\n",
       "      dtype='object')"
      ]
     },
     "execution_count": 101,
     "metadata": {},
     "output_type": "execute_result"
    }
   ],
   "source": [
    "morethan3=df_more3.index\n",
    "morethan3"
   ]
  },
  {
   "cell_type": "code",
   "execution_count": 103,
   "id": "df092f7e",
   "metadata": {},
   "outputs": [
    {
     "data": {
      "text/html": [
       "<div>\n",
       "<style scoped>\n",
       "    .dataframe tbody tr th:only-of-type {\n",
       "        vertical-align: middle;\n",
       "    }\n",
       "\n",
       "    .dataframe tbody tr th {\n",
       "        vertical-align: top;\n",
       "    }\n",
       "\n",
       "    .dataframe thead th {\n",
       "        text-align: right;\n",
       "    }\n",
       "</style>\n",
       "<table border=\"1\" class=\"dataframe\">\n",
       "  <thead>\n",
       "    <tr style=\"text-align: right;\">\n",
       "      <th></th>\n",
       "      <th>energy</th>\n",
       "      <th>liveness</th>\n",
       "    </tr>\n",
       "    <tr>\n",
       "      <th>artist</th>\n",
       "      <th></th>\n",
       "      <th></th>\n",
       "    </tr>\n",
       "  </thead>\n",
       "  <tbody>\n",
       "    <tr>\n",
       "      <th>Billie Eilish</th>\n",
       "      <td>28.000000</td>\n",
       "      <td>9.666667</td>\n",
       "    </tr>\n",
       "    <tr>\n",
       "      <th>Ed Sheeran</th>\n",
       "      <td>52.200000</td>\n",
       "      <td>11.400000</td>\n",
       "    </tr>\n",
       "    <tr>\n",
       "      <th>Imagine Dragons</th>\n",
       "      <td>77.250000</td>\n",
       "      <td>29.250000</td>\n",
       "    </tr>\n",
       "    <tr>\n",
       "      <th>Justin Bieber</th>\n",
       "      <td>57.000000</td>\n",
       "      <td>22.000000</td>\n",
       "    </tr>\n",
       "    <tr>\n",
       "      <th>Maroon 5</th>\n",
       "      <td>55.333333</td>\n",
       "      <td>10.000000</td>\n",
       "    </tr>\n",
       "    <tr>\n",
       "      <th>Post Malone</th>\n",
       "      <td>60.571429</td>\n",
       "      <td>14.142857</td>\n",
       "    </tr>\n",
       "    <tr>\n",
       "      <th>Shawn Mendes</th>\n",
       "      <td>70.333333</td>\n",
       "      <td>8.333333</td>\n",
       "    </tr>\n",
       "    <tr>\n",
       "      <th>The Chainsmokers</th>\n",
       "      <td>67.666667</td>\n",
       "      <td>13.666667</td>\n",
       "    </tr>\n",
       "    <tr>\n",
       "      <th>The Weeknd</th>\n",
       "      <td>66.250000</td>\n",
       "      <td>12.000000</td>\n",
       "    </tr>\n",
       "  </tbody>\n",
       "</table>\n",
       "</div>"
      ],
      "text/plain": [
       "                     energy   liveness\n",
       "artist                                \n",
       "Billie Eilish     28.000000   9.666667\n",
       "Ed Sheeran        52.200000  11.400000\n",
       "Imagine Dragons   77.250000  29.250000\n",
       "Justin Bieber     57.000000  22.000000\n",
       "Maroon 5          55.333333  10.000000\n",
       "Post Malone       60.571429  14.142857\n",
       "Shawn Mendes      70.333333   8.333333\n",
       "The Chainsmokers  67.666667  13.666667\n",
       "The Weeknd        66.250000  12.000000"
      ]
     },
     "execution_count": 103,
     "metadata": {},
     "output_type": "execute_result"
    }
   ],
   "source": [
    "# df[df.year.isin(years)]\n",
    "\n",
    "res1=df[df['artist'].isin(morethan3)].groupby('artist')[['energy','liveness']].mean()\n",
    "res1"
   ]
  },
  {
   "cell_type": "code",
   "execution_count": 104,
   "id": "68066616",
   "metadata": {},
   "outputs": [
    {
     "data": {
      "image/png": "[encoded data removed]",
      "text/plain": [
       "<Figure size 640x480 with 1 Axes>"
      ]
     },
     "metadata": {},
     "output_type": "display_data"
    }
   ],
   "source": [
    "res1.plot(kind='bar')\n",
    "plt.show()"
   ]
  },
  {
   "cell_type": "code",
   "execution_count": 106,
   "id": "bfb0ceee",
   "metadata": {},
   "outputs": [
    {
     "data": {
      "image/png": "[encoded data removed]",
      "text/plain": [
       "<Figure size 640x480 with 1 Axes>"
      ]
     },
     "metadata": {},
     "output_type": "display_data"
    }
   ],
   "source": [
    "res1.plot.bar(stacked=True)\n",
    "plt.grid()\n",
    "plt.show()"
   ]
  },
  {
   "cell_type": "code",
   "execution_count": 107,
   "id": "198b16e0",
   "metadata": {},
   "outputs": [
    {
     "data": {
      "image/png": "[encoded data removed]",
      "text/plain": [
       "<Figure size 640x480 with 2 Axes>"
      ]
     },
     "metadata": {},
     "output_type": "display_data"
    }
   ],
   "source": [
    "res1.plot.bar(subplots=True)\n",
    "plt.show()"
   ]
  },
  {
   "cell_type": "markdown",
   "id": "9be2f3e6",
   "metadata": {},
   "source": [
    "### Plot genre wise mean of Danceability and valance  on a line chart for the artist who have 3 or more songs."
   ]
  },
  {
   "cell_type": "code",
   "execution_count": 109,
   "id": "d1c692e1",
   "metadata": {},
   "outputs": [
    {
     "data": {
      "text/plain": [
       "Index(['title', 'artist', 'top genre', 'year', 'beats.per.minute', 'energy',\n",
       "       'danceability', 'loudness.dB', 'liveness', 'valance', 'length',\n",
       "       'acousticness', 'speechiness', 'popularity'],\n",
       "      dtype='object')"
      ]
     },
     "execution_count": 109,
     "metadata": {},
     "output_type": "execute_result"
    }
   ],
   "source": [
    "df.columns"
   ]
  },
  {
   "cell_type": "code",
   "execution_count": 110,
   "id": "aac6263e",
   "metadata": {},
   "outputs": [
    {
     "data": {
      "text/html": [
       "<div>\n",
       "<style scoped>\n",
       "    .dataframe tbody tr th:only-of-type {\n",
       "        vertical-align: middle;\n",
       "    }\n",
       "\n",
       "    .dataframe tbody tr th {\n",
       "        vertical-align: top;\n",
       "    }\n",
       "\n",
       "    .dataframe thead th {\n",
       "        text-align: right;\n",
       "    }\n",
       "</style>\n",
       "<table border=\"1\" class=\"dataframe\">\n",
       "  <thead>\n",
       "    <tr style=\"text-align: right;\">\n",
       "      <th></th>\n",
       "      <th>danceability</th>\n",
       "      <th>valance</th>\n",
       "    </tr>\n",
       "    <tr>\n",
       "      <th>top genre</th>\n",
       "      <th></th>\n",
       "      <th></th>\n",
       "    </tr>\n",
       "  </thead>\n",
       "  <tbody>\n",
       "    <tr>\n",
       "      <th>conscious hip hop</th>\n",
       "      <td>91.0</td>\n",
       "      <td>42.000000</td>\n",
       "    </tr>\n",
       "    <tr>\n",
       "      <th>lgbtq+ hip hop</th>\n",
       "      <td>88.0</td>\n",
       "      <td>64.000000</td>\n",
       "    </tr>\n",
       "    <tr>\n",
       "      <th>rap</th>\n",
       "      <td>83.5</td>\n",
       "      <td>44.000000</td>\n",
       "    </tr>\n",
       "    <tr>\n",
       "      <th>australian pop</th>\n",
       "      <td>82.0</td>\n",
       "      <td>51.000000</td>\n",
       "    </tr>\n",
       "    <tr>\n",
       "      <th>emo rap</th>\n",
       "      <td>80.5</td>\n",
       "      <td>45.500000</td>\n",
       "    </tr>\n",
       "    <tr>\n",
       "      <th>melodic rap</th>\n",
       "      <td>80.0</td>\n",
       "      <td>64.666667</td>\n",
       "    </tr>\n",
       "  </tbody>\n",
       "</table>\n",
       "</div>"
      ],
      "text/plain": [
       "                   danceability    valance\n",
       "top genre                                 \n",
       "conscious hip hop          91.0  42.000000\n",
       "lgbtq+ hip hop             88.0  64.000000\n",
       "rap                        83.5  44.000000\n",
       "australian pop             82.0  51.000000\n",
       "emo rap                    80.5  45.500000\n",
       "melodic rap                80.0  64.666667"
      ]
     },
     "execution_count": 110,
     "metadata": {},
     "output_type": "execute_result"
    }
   ],
   "source": [
    "r2=df.groupby('top genre')[['danceability','valance']].mean()\n",
    "r2=r2.sort_values(by='danceability',ascending=False).head(6)\n",
    "r2"
   ]
  },
  {
   "cell_type": "code",
   "execution_count": 112,
   "id": "ef08f39a",
   "metadata": {},
   "outputs": [
    {
     "data": {
      "image/png": "[encoded data removed]",
      "text/plain": [
       "<Figure size 640x480 with 1 Axes>"
      ]
     },
     "metadata": {},
     "output_type": "display_data"
    }
   ],
   "source": [
    "r2.plot.line(rot=90,color=['brown','green'])\n",
    "plt.show()\n",
    "\n",
    "# \"rot=90\" shows the top genre's name in the Horizontal order."
   ]
  },
  {
   "cell_type": "code",
   "execution_count": 113,
   "id": "eebd6b7e",
   "metadata": {},
   "outputs": [
    {
     "data": {
      "image/png": "[encoded data removed]",
      "text/plain": [
       "<Figure size 640x480 with 2 Axes>"
      ]
     },
     "metadata": {},
     "output_type": "display_data"
    }
   ],
   "source": [
    "r2.plot(kind='line',subplots=True,rot=90)\n",
    "plt.show()"
   ]
  },
  {
   "cell_type": "markdown",
   "id": "0c0a28fd",
   "metadata": {},
   "source": [
    "### Plot year wise mean of popularity on a pie chart for the years 2017 and above. "
   ]
  },
  {
   "cell_type": "code",
   "execution_count": 114,
   "id": "94dae5c4",
   "metadata": {},
   "outputs": [
    {
     "data": {
      "text/plain": [
       "(54, 14)"
      ]
     },
     "execution_count": 114,
     "metadata": {},
     "output_type": "execute_result"
    }
   ],
   "source": [
    "df_year2017=df[df['year']>=2017]\n",
    "df_year2017.shape"
   ]
  },
  {
   "cell_type": "code",
   "execution_count": 115,
   "id": "64ba98f2",
   "metadata": {},
   "outputs": [
    {
     "data": {
      "text/plain": [
       "year\n",
       "2017    82.333333\n",
       "2018    79.500000\n",
       "2019    80.812500\n",
       "2020    85.333333\n",
       "2021    79.666667\n",
       "Name: popularity, dtype: float64"
      ]
     },
     "execution_count": 115,
     "metadata": {},
     "output_type": "execute_result"
    }
   ],
   "source": [
    "r3=df_year2017.groupby('year')['popularity'].mean()\n",
    "r3"
   ]
  },
  {
   "cell_type": "code",
   "execution_count": 116,
   "id": "108b575e",
   "metadata": {},
   "outputs": [
    {
     "data": {
      "image/png": "[encoded data removed]",
      "text/plain": [
       "<Figure size 640x480 with 1 Axes>"
      ]
     },
     "metadata": {},
     "output_type": "display_data"
    }
   ],
   "source": [
    "r3.plot(kind='pie',autopct='%.2f%%')\n",
    "plt.show()"
   ]
  },
  {
   "cell_type": "code",
   "execution_count": 117,
   "id": "f5b3d7c0",
   "metadata": {},
   "outputs": [
    {
     "data": {
      "image/png": "[encoded data removed]",
      "text/plain": [
       "<Figure size 640x480 with 1 Axes>"
      ]
     },
     "metadata": {},
     "output_type": "display_data"
    }
   ],
   "source": [
    "# another method to create pie chart\n",
    "\n",
    "r3.plot.pie(autopct='%.2f%%')\n",
    "plt.show()"
   ]
  },
  {
   "cell_type": "markdown",
   "id": "8026531f",
   "metadata": {},
   "source": [
    "#### Inference:-\n",
    "1. Year 2020 contains the most popularity.\n",
    "2. Year 2018 contains the least popularity."
   ]
  },
  {
   "cell_type": "code",
   "execution_count": null,
   "id": "857734f0",
   "metadata": {},
   "outputs": [],
   "source": []
  }
 ],
 "metadata": {
  "kernelspec": {
   "display_name": "Python 3 (ipykernel)",
   "language": "python",
   "name": "python3"
  },
  "language_info": {
   "codemirror_mode": {
    "name": "ipython",
    "version": 3
   },
   "file_extension": ".py",
   "mimetype": "text/x-python",
   "name": "python",
   "nbconvert_exporter": "python",
   "pygments_lexer": "ipython3",
   "version": "3.9.13"
  }
 },
 "nbformat": 4,
 "nbformat_minor": 5
}
